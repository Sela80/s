{
  "nbformat": 4,
  "nbformat_minor": 0,
  "metadata": {
    "colab": {
      "private_outputs": true,
      "provenance": [],
      "authorship_tag": "ABX9TyMkSUwxHSgv7M4eN3PUrO2U",
      "include_colab_link": true
    },
    "kernelspec": {
      "name": "python3",
      "display_name": "Python 3"
    },
    "language_info": {
      "name": "python"
    }
  },
  "cells": [
    {
      "cell_type": "markdown",
      "metadata": {
        "id": "view-in-github",
        "colab_type": "text"
      },
      "source": [
        "<a href=\"https://colab.research.google.com/github/Sela80/s/blob/main/Donn%C3%A9es_de_pr%C3%A9vision_d'approbation_de_pr%C3%AAt_financier.ipynb\" target=\"_parent\"><img src=\"https://colab.research.google.com/assets/colab-badge.svg\" alt=\"Open In Colab\"/></a>"
      ]
    },
    {
      "cell_type": "markdown",
      "source": [
        "#À propos de l'ensemble de données\n",
        "La société de financement propose tous types de prêts. Le client demande d'abord un prêt immobilier après que la société a validé son éligibilité.\n",
        "\n",
        "L'entreprise souhaite automatiser le processus d'admissibilité au prêt (en temps réel) en fonction des informations fournies par le client lors du remplissage du formulaire de demande en ligne. Ces informations sont : sexe, état civil, niveau d'études, nombre de personnes à charge, revenus, montant du prêt, historique de crédit, etc. Pour automatiser ce processus, elle a défini un problème permettant d'identifier les segments de clientèle éligibles aux prêts afin de cibler spécifiquement ces clients. Elle fournit ici un ensemble de données partiel.\n",
        "\n",
        "-Notre Mission serait de construire un modèle intelligent capable de prédire si un client est éligible à un prêt auprès de l'entreprise financière."
      ],
      "metadata": {
        "id": "L68IEaQsF1dF"
      }
    },
    {
      "cell_type": "markdown",
      "source": [
        "1. Importation des librairies nécessaires"
      ],
      "metadata": {
        "id": "2Gvtig5NF03S"
      }
    },
    {
      "cell_type": "code",
      "source": [
        "!pip install opendatasets --upgrade --quiet\n",
        "!pip install category_encoders --quiet\n",
        "!pip install nicegui --quiet\n",
        "!pip install scikit-learn --upgrade"
      ],
      "metadata": {
        "id": "4-Wg13M3Hv0q"
      },
      "execution_count": null,
      "outputs": []
    },
    {
      "cell_type": "code",
      "execution_count": null,
      "metadata": {
        "id": "JSnpMQAaFwCQ"
      },
      "outputs": [],
      "source": [
        "import pandas as pd\n",
        "import seaborn as sns\n",
        "import matplotlib.pyplot as plt\n",
        "import joblib\n",
        "from category_encoders import CatBoostEncoder\n",
        "from sklearn.model_selection import train_test_split, StratifiedKFold, cross_val_score\n",
        "from sklearn.preprocessing import OneHotEncoder, StandardScaler\n",
        "from sklearn.compose import ColumnTransformer\n",
        "from sklearn.pipeline import Pipeline\n",
        "from sklearn.metrics import accuracy_score, roc_auc_score, classification_report, confusion_matrix, RocCurveDisplay, PrecisionRecallDisplay, RocCurveDisplay, ConfusionMatrixDisplay\n",
        "from sklearn.linear_model import LogisticRegression\n",
        "from sklearn.ensemble import RandomForestClassifier\n",
        "import ipywidgets as widgets\n",
        "from xgboost import XGBClassifier\n",
        "from IPython.display import display"
      ]
    },
    {
      "cell_type": "code",
      "source": [
        "# Importation d'une Base de données Depuis Kaggle\n",
        "import opendatasets as od\n",
        "od.download('https://www.kaggle.com/datasets/krishnaraj30/finance-loan-approval-prediction-data')"
      ],
      "metadata": {
        "id": "bnbFqvUtHze4"
      },
      "execution_count": null,
      "outputs": []
    },
    {
      "cell_type": "code",
      "source": [
        "# Chargement de notre Dataset\n",
        "df1=pd.read_csv('/content/finance-loan-approval-prediction-data/train.csv')"
      ],
      "metadata": {
        "id": "WYr6kcwhH2F5"
      },
      "execution_count": null,
      "outputs": []
    },
    {
      "cell_type": "code",
      "source": [
        "df1.head()"
      ],
      "metadata": {
        "id": "Djm6ODgEIXtf"
      },
      "execution_count": null,
      "outputs": []
    },
    {
      "cell_type": "code",
      "source": [
        "df1.info()"
      ],
      "metadata": {
        "id": "nOAzVF6AIakg"
      },
      "execution_count": null,
      "outputs": []
    },
    {
      "cell_type": "code",
      "source": [
        "df1.isna().sum()"
      ],
      "metadata": {
        "id": "MaNfUpoCIeaz"
      },
      "execution_count": null,
      "outputs": []
    },
    {
      "cell_type": "code",
      "source": [
        "# Handle missing values\n",
        "for col in df1.columns:\n",
        "    if df1[col].isnull().any():\n",
        "                # Categorical column\n",
        "        if df1[col].dtype == 'object':\n",
        "            df1[col].fillna(df1[col].mode()[0], inplace=True)\n",
        "        else:  # Numerical column\n",
        "            df1[col].fillna(df1[col].median(), inplace=True)\n",
        "\n",
        "print(\"Missing values after handling:\")\n",
        "print(df1.isnull().sum())"
      ],
      "metadata": {
        "id": "NK90l2yhLAph"
      },
      "execution_count": null,
      "outputs": []
    },
    {
      "cell_type": "code",
      "source": [
        "df1.duplicated().sum()"
      ],
      "metadata": {
        "id": "oXns__wmInYP"
      },
      "execution_count": null,
      "outputs": []
    },
    {
      "cell_type": "code",
      "source": [
        "df1.describe()"
      ],
      "metadata": {
        "id": "q16vBUp7IuE1"
      },
      "execution_count": null,
      "outputs": []
    },
    {
      "cell_type": "markdown",
      "source": [
        "2. Visualisation"
      ],
      "metadata": {
        "id": "MUhoE84FMEwd"
      }
    },
    {
      "cell_type": "code",
      "source": [
        "num_col = df1.select_dtypes(include=['int64', 'float64']).columns\n",
        "cat_col = df1.select_dtypes(include=['object']).columns"
      ],
      "metadata": {
        "id": "kgC_wPZbXAL2"
      },
      "execution_count": null,
      "outputs": []
    },
    {
      "cell_type": "code",
      "source": [
        "# 5) Numeric correlations heatmap (top features)\n",
        "corr = df1[num_col].corr()\n",
        "plt.figure(figsize=(8,6))\n",
        "sns.heatmap(corr, annot=False, cmap='coolwarm', center=0)\n",
        "plt.title('Corrélations entre variables numériques')\n",
        "plt.tight_layout()\n",
        "plt.show()"
      ],
      "metadata": {
        "id": "yz4CCiyyW_My"
      },
      "execution_count": null,
      "outputs": []
    },
    {
      "cell_type": "code",
      "source": [
        "distribution_Loan_Status = df1['Loan_Status'].value_counts()\n",
        "print(distribution_Loan_Status)"
      ],
      "metadata": {
        "id": "CHgmNfFaMEbk"
      },
      "execution_count": null,
      "outputs": []
    },
    {
      "cell_type": "code",
      "source": [
        "distribution_Loan_Status.plot(kind='bar')\n",
        "plt.title('Distribution of Loan Status')\n",
        "plt.xlabel('Loan Status')\n",
        "plt.ylabel('Count')\n",
        "plt.show()"
      ],
      "metadata": {
        "id": "bmTPd9wgMX_T"
      },
      "execution_count": null,
      "outputs": []
    },
    {
      "cell_type": "code",
      "source": [
        "df = df1.copy()"
      ],
      "metadata": {
        "id": "WkQCECPZYBI-"
      },
      "execution_count": null,
      "outputs": []
    },
    {
      "cell_type": "code",
      "source": [
        "df.drop('Loan_ID', axis=1, inplace=True)\n",
        "df"
      ],
      "metadata": {
        "id": "REixPRdBYyZT"
      },
      "execution_count": null,
      "outputs": []
    },
    {
      "cell_type": "markdown",
      "source": [
        "3. Prétraitement"
      ],
      "metadata": {
        "id": "CgpBsGniNCI0"
      }
    },
    {
      "cell_type": "code",
      "source": [
        "num_cols = df.select_dtypes(include=['int64', 'float64']).columns\n",
        "cat_cols = ['Gender', 'Married', 'Dependents', 'Education', 'Self_Employed',\n",
        "       'Property_Area']\n"
      ],
      "metadata": {
        "id": "4dSPfVmwb1k9"
      },
      "execution_count": null,
      "outputs": []
    },
    {
      "cell_type": "code",
      "source": [
        "x = df.drop(['Loan_Status'], axis=1)\n",
        "y = df['Loan_Status'].map({'Y': 1, 'N': 0}).astype(int)"
      ],
      "metadata": {
        "id": "pXzgW3U2VW8E"
      },
      "execution_count": null,
      "outputs": []
    },
    {
      "cell_type": "code",
      "source": [
        "cat_cols"
      ],
      "metadata": {
        "id": "8YoHrflmbI4h"
      },
      "execution_count": null,
      "outputs": []
    },
    {
      "cell_type": "code",
      "source": [
        "preprocessing = ColumnTransformer(\n",
        "    transformers=[\n",
        "        ('num', StandardScaler(), num_cols),\n",
        "        ('cat', CatBoostEncoder(), cat_cols)\n",
        "    ]\n",
        ")"
      ],
      "metadata": {
        "id": "FWdqrPeSNTpl"
      },
      "execution_count": null,
      "outputs": []
    },
    {
      "cell_type": "code",
      "source": [
        "x_train, x_test, y_train, y_test = train_test_split(x, y, test_size=0.2, random_state=42)"
      ],
      "metadata": {
        "id": "-ii0SY9yRG0j"
      },
      "execution_count": null,
      "outputs": []
    },
    {
      "cell_type": "code",
      "source": [
        "log_reg = Pipeline(steps=[\n",
        "    ('preprocessor', preprocessing),\n",
        "     ('classifier', LogisticRegression())])"
      ],
      "metadata": {
        "id": "RaHitl7jN_Og"
      },
      "execution_count": null,
      "outputs": []
    },
    {
      "cell_type": "code",
      "source": [
        "R_F_Classifier = Pipeline(steps=[\n",
        "    ('preprocessor', preprocessing),\n",
        "     ('classifier', RandomForestClassifier())])"
      ],
      "metadata": {
        "id": "6RSfTPGGOYHQ"
      },
      "execution_count": null,
      "outputs": []
    },
    {
      "cell_type": "code",
      "source": [
        "xgb = Pipeline(steps=[\n",
        "    ('preprocessor', preprocessing),\n",
        "     ('classifier', XGBClassifier())])"
      ],
      "metadata": {
        "id": "G0h-Cyg-O1T-"
      },
      "execution_count": null,
      "outputs": []
    },
    {
      "cell_type": "code",
      "source": [
        "# Perform cross-validation\n",
        "cv = StratifiedKFold(n_splits=5, shuffle=True, random_state=42)\n"
      ],
      "metadata": {
        "id": "6akUuwv0QVRt"
      },
      "execution_count": null,
      "outputs": []
    },
    {
      "cell_type": "code",
      "source": [
        "# Cross-validation for Logistic Regression\n",
        "log_reg_cv_scores = cross_val_score(log_reg, x, y, cv=cv, scoring='accuracy')\n",
        "log_reg_roc_auc_scores = cross_val_score(log_reg, x, y, cv=cv, scoring='roc_auc')\n",
        "\n",
        "print(\"Logistic Regression Cross-Validation Accuracy Scores:\", log_reg_cv_scores)\n",
        "print(\"Logistic Regression Mean Cross-Validation Accuracy:\", log_reg_cv_scores.mean())\n",
        "print(\"Logistic Regression Cross-Validation ROC AUC Scores:\", log_reg_roc_auc_scores)\n",
        "print(\"Logistic Regression Mean Cross-Validation ROC AUC:\", log_reg_roc_auc_scores.mean())"
      ],
      "metadata": {
        "id": "U_CL_rD5QS7U"
      },
      "execution_count": null,
      "outputs": []
    },
    {
      "cell_type": "code",
      "source": [
        "# Cross-validation for Random Forest Classifier\n",
        "rf_cv_scores = cross_val_score(R_F_Classifier, x, y, cv=cv, scoring='accuracy')\n",
        "rf_roc_auc_scores = cross_val_score(R_F_Classifier, x, y, cv=cv, scoring='roc_auc')\n",
        "\n",
        "print(\"\\nRandom Forest Classifier Cross-Validation Accuracy Scores:\", rf_cv_scores)\n",
        "print(\"Random Forest Classifier Mean Cross-Validation Accuracy:\", rf_cv_scores.mean())\n",
        "print(\"Random Forest Classifier Cross-Validation ROC AUC Scores:\", rf_roc_auc_scores)\n",
        "print(\"Random Forest Classifier Mean Cross-Validation ROC AUC:\", rf_roc_auc_scores.mean())"
      ],
      "metadata": {
        "id": "0mqew1xXO8Gi"
      },
      "execution_count": null,
      "outputs": []
    },
    {
      "cell_type": "code",
      "source": [
        "# Cross-validation for XGBClassifier\n",
        "xgb_cv_scores = cross_val_score(xgb, x, y, cv=cv, scoring='accuracy')\n",
        "xgb_roc_auc_scores = cross_val_score(xgb, x, y, cv=cv, scoring='roc_auc')\n",
        "print(\"\\nXGBClassifier Cross-Validation Accuracy Scores:\", xgb_cv_scores)\n",
        "print(\"XGBClassifier Mean Cross-Validation Accuracy:\", xgb_cv_scores.mean())\n",
        "print(\"XGBClassifier Cross-Validation ROC AUC Scores:\", xgb_roc_auc_scores)\n",
        "print(\"XGBClassifier Mean Cross-Validation ROC AUC:\", xgb_roc_auc_scores.mean())"
      ],
      "metadata": {
        "id": "bCXPuoHdQbaq"
      },
      "execution_count": null,
      "outputs": []
    },
    {
      "cell_type": "code",
      "source": [
        "# Fit models to the training data\n",
        "log_reg.fit(x_train, y_train)\n",
        "R_F_Classifier.fit(x_train, y_train)\n",
        "xgb.fit(x_train, y_train)\n",
        "\n",
        "# Courbes ROC\n",
        "RocCurveDisplay.from_estimator(log_reg, x_test, y_test, name='LogReg')\n",
        "RocCurveDisplay.from_estimator(R_F_Classifier, x_test, y_test, name='RandomForestClassifier')\n",
        "RocCurveDisplay.from_estimator(xgb, x_test, y_test, name='XGB')\n",
        "plt.legend(loc='lower right')\n",
        "plt.title('ROC curves on Test')\n",
        "plt.show()"
      ],
      "metadata": {
        "id": "A9n42ocuaTuU"
      },
      "execution_count": null,
      "outputs": []
    },
    {
      "cell_type": "code",
      "source": [
        "# Sauvegarde du modèle\n",
        "\n",
        "joblib.dump(R_F_Classifier, 'R_F_Classifier.pkl')\n",
        "print('modèle Sauvegarde')"
      ],
      "metadata": {
        "id": "yUCLw-o7c0xp"
      },
      "execution_count": null,
      "outputs": []
    },
    {
      "cell_type": "code",
      "source": [
        "from google.colab import files\n",
        "\n",
        "files.download('R_F_Classifier.pkl')"
      ],
      "metadata": {
        "id": "j_ZfXXTTddvo"
      },
      "execution_count": null,
      "outputs": []
    },
    {
      "cell_type": "code",
      "source": [
        "import gradio as gr\n",
        "import pandas as pd\n",
        "import joblib\n",
        "import warnings\n",
        "\n",
        "# Masquer tous les avertissements\n",
        "warnings.filterwarnings(\"ignore\")\n",
        "\n",
        "# --------------------------\n",
        "# 1. Charger le modèle SILENCIEUSEMENT\n",
        "# --------------------------\n",
        "model = None\n",
        "try:\n",
        "    model = joblib.load('R_F_Classifier.pkl')\n",
        "    # AUCUN print() ici → pas de message \"chargé avec succès\"\n",
        "except:\n",
        "    model = None  # En cas d'erreur, on ne dit rien dans la console\n",
        "\n",
        "# --------------------------\n",
        "# 2. Fonction de prédiction\n",
        "# --------------------------\n",
        "def predict_loan_eligibility(\n",
        "    Gender, Married, Dependents, Education, Self_Employed,\n",
        "    ApplicantIncome, CoapplicantIncome, LoanAmount, Loan_Amount_Term, Credit_History, Property_Area\n",
        "):\n",
        "    if model is None:\n",
        "        return \"⚠️ Modèle non chargé. Vérifie le fichier 'R_F_Classifier.pkl'.\"\n",
        "\n",
        "    # Créer un DataFrame avec les entrées utilisateur\n",
        "    input_df = pd.DataFrame({\n",
        "        'Gender': [Gender],\n",
        "        'Married': [Married],\n",
        "        'Dependents': [Dependents],\n",
        "        'Education': [Education],\n",
        "        'Self_Employed': [Self_Employed],\n",
        "        'ApplicantIncome': [float(ApplicantIncome)],\n",
        "        'CoapplicantIncome': [float(CoapplicantIncome)],\n",
        "        'LoanAmount': [float(LoanAmount) if LoanAmount else 130.0],  # Valeur par défaut\n",
        "        'Loan_Amount_Term': [float(Loan_Amount_Term)],\n",
        "        'Credit_History': [float(Credit_History)],\n",
        "        'Property_Area': [Property_Area]\n",
        "    })\n",
        "\n",
        "    try:\n",
        "        prediction = model.predict(input_df)[0]\n",
        "        proba = model.predict_proba(input_df)[0]\n",
        "\n",
        "        # ✅ Gère les prédictions 'Y'/'N' (basé sur train.csv)\n",
        "        if prediction == 'Y':\n",
        "            resultat = f\"🎉 CLIENT ÉLIGIBLE AU PRÊT ! ✅\\n(Confiance : {proba[1]:.2%})\"\n",
        "        elif prediction == 'N':\n",
        "            resultat = f\"⛔ CLIENT NON ÉLIGIBLE. ❌\\n(Confiance : {proba[0]:.2%})\"\n",
        "        else:\n",
        "            resultat = f\"⚠️ Valeur de prédiction inattendue : {prediction}\"\n",
        "\n",
        "        return resultat\n",
        "\n",
        "    except Exception as e:\n",
        "        return f\"❌ Erreur lors de la prédiction : {str(e)}\"\n",
        "\n",
        "# --------------------------\n",
        "# 3. Interface utilisateur (Gradio Blocks)\n",
        "# --------------------------\n",
        "with gr.Blocks(title=\"Prédicteur de Prêt - Random Forest\", theme=gr.themes.Soft()) as demo:\n",
        "    gr.Markdown(\"# 🏦 Prédicteur d'Éligibilité de Prêt\")\n",
        "    gr.Markdown(\"### Modèle : Random Forest (`R_F_Classifier.pkl`)\")\n",
        "    gr.Markdown(\"Remplissez le formulaire ci-dessous pour obtenir une prédiction instantanée.\")\n",
        "\n",
        "    with gr.Row():\n",
        "        with gr.Column():\n",
        "            gr.Markdown(\"### 👤 Informations Personnelles\")\n",
        "            gender = gr.Dropdown([\"Male\", \"Female\"], label=\"Genre\", value=\"Male\")\n",
        "            married = gr.Dropdown([\"Yes\", \"No\"], label=\"Marié(e)\", value=\"No\")\n",
        "            dependents = gr.Dropdown([\"0\", \"1\", \"2\", \"3+\"], label=\"Personnes à charge\", value=\"0\")\n",
        "            education = gr.Dropdown([\"Graduate\", \"Not Graduate\"], label=\"Niveau d'études\", value=\"Graduate\")\n",
        "            self_employed = gr.Dropdown([\"Yes\", \"No\"], label=\"Travailleur indépendant\", value=\"No\")\n",
        "            property_area = gr.Dropdown([\"Urban\", \"Semiurban\", \"Rural\"], label=\"Zone de propriété\", value=\"Urban\")\n",
        "\n",
        "        with gr.Column():\n",
        "            gr.Markdown(\"### 💰 Informations Financières\")\n",
        "            applicant_income = gr.Number(label=\"Revenu du demandeur (₹)\", value=5000, minimum=0)\n",
        "            coapplicant_income = gr.Number(label=\"Revenu du co-demandeur (₹)\", value=0, minimum=0)\n",
        "            loan_amount = gr.Number(label=\"Montant du prêt demandé (₹ en milliers)\", value=130, minimum=1)\n",
        "            loan_term = gr.Slider(12, 480, step=12, value=360, label=\"Durée du prêt (mois)\")\n",
        "            credit_history = gr.Dropdown([1.0, 0.0], label=\"Historique de crédit (1=bon, 0=mauvais)\", value=1.0)\n",
        "\n",
        "    predict_btn = gr.Button(\"🚀 Lancer la prédiction\", variant=\"primary\")\n",
        "    output = gr.Textbox(label=\"📊 Résultat\", placeholder=\"Le résultat de la prédiction s'affichera ici...\", lines=3)\n",
        "\n",
        "    # Lier la fonction au bouton\n",
        "    predict_btn.click(\n",
        "        fn=predict_loan_eligibility,\n",
        "        inputs=[\n",
        "            gender, married, dependents, education, self_employed,\n",
        "            applicant_income, coapplicant_income, loan_amount, loan_term, credit_history, property_area\n",
        "        ],\n",
        "        outputs=output\n",
        "    )\n",
        "\n",
        "# --------------------------\n",
        "if __name__ == \"__main__\":\n",
        "    demo.launch(\n",
        "        inbrowser=True,\n",
        "        share=False,\n",
        "        debug=False,\n",
        "        quiet=True\n",
        "    )"
      ],
      "metadata": {
        "id": "dKoZhbbL4N2C"
      },
      "execution_count": null,
      "outputs": []
    }
  ]
}