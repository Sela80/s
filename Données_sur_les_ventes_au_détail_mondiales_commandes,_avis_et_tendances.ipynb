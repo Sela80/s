{
  "nbformat": 4,
  "nbformat_minor": 0,
  "metadata": {
    "colab": {
      "private_outputs": true,
      "provenance": [],
      "authorship_tag": "ABX9TyOmV5dxpxuxI6svBvMNekQE",
      "include_colab_link": true
    },
    "kernelspec": {
      "name": "python3",
      "display_name": "Python 3"
    },
    "language_info": {
      "name": "python"
    }
  },
  "cells": [
    {
      "cell_type": "markdown",
      "metadata": {
        "id": "view-in-github",
        "colab_type": "text"
      },
      "source": [
        "<a href=\"https://colab.research.google.com/github/Sela80/s/blob/main/Donn%C3%A9es_sur_les_ventes_au_d%C3%A9tail_mondiales_commandes%2C_avis_et_tendances.ipynb\" target=\"_parent\"><img src=\"https://colab.research.google.com/assets/colab-badge.svg\" alt=\"Open In Colab\"/></a>"
      ]
    },
    {
      "cell_type": "markdown",
      "source": [
        "# 1. Préparation des Données"
      ],
      "metadata": {
        "id": "HWvuZDX7-ANT"
      }
    },
    {
      "cell_type": "markdown",
      "source": [
        "**a. Importation des Bibliothèques**"
      ],
      "metadata": {
        "id": "v2NkXId9-HPr"
      }
    },
    {
      "cell_type": "code",
      "source": [
        "import numpy as np\n",
        "import pandas as pd\n",
        "import matplotlib.pyplot as plt\n",
        "import seaborn as sns"
      ],
      "metadata": {
        "id": "FUpU7cTc4Z1i"
      },
      "execution_count": null,
      "outputs": []
    },
    {
      "cell_type": "markdown",
      "source": [
        "**b. Chargement des Données**"
      ],
      "metadata": {
        "id": "YgZ2qeFi-kmK"
      }
    },
    {
      "cell_type": "code",
      "source": [
        "data=pd.read_csv('/content/merch_sales.csv')"
      ],
      "metadata": {
        "id": "kYeY_yUn5KFx"
      },
      "execution_count": null,
      "outputs": []
    },
    {
      "cell_type": "code",
      "source": [
        "data.head()"
      ],
      "metadata": {
        "id": "IL8wbt-H5UvJ"
      },
      "execution_count": null,
      "outputs": []
    },
    {
      "cell_type": "code",
      "source": [
        "data.describe().transpose()"
      ],
      "metadata": {
        "id": "4A0Allyk_NnR"
      },
      "execution_count": null,
      "outputs": []
    },
    {
      "cell_type": "markdown",
      "source": [
        "**c. Nettoyage des Données**\n",
        "\n",
        "1. Vérifier les valeurs manquantes et les types de données.\n",
        "2. Convertir les colonnes de dates au format datetime.\n",
        "3. Traiter les doublons et les valeurs aberrantes."
      ],
      "metadata": {
        "id": "EM32CSoJ-ruK"
      }
    },
    {
      "cell_type": "code",
      "source": [
        "data.info()"
      ],
      "metadata": {
        "id": "1MU_tvBA_nXJ"
      },
      "execution_count": null,
      "outputs": []
    },
    {
      "cell_type": "code",
      "source": [
        "data.isnull().sum()"
      ],
      "metadata": {
        "id": "dgQGvM3F63ZA"
      },
      "execution_count": null,
      "outputs": []
    },
    {
      "cell_type": "code",
      "source": [
        "\n",
        "# Convertir les colonnes de dates au format datetime\n",
        "date_columns = ['Order Date']  # Remplacez par les noms de vos colonnes de date\n",
        "for col in date_columns:\n",
        "    data[col] = pd.to_datetime(data[col])\n"
      ],
      "metadata": {
        "id": "VzqNqgxK_i7Z"
      },
      "execution_count": null,
      "outputs": []
    },
    {
      "cell_type": "code",
      "source": [
        "data.duplicated().sum()"
      ],
      "metadata": {
        "id": "En2Ld9m1CS6m"
      },
      "execution_count": null,
      "outputs": []
    },
    {
      "cell_type": "code",
      "source": [
        "# Visualisation des valeurs aberrantes avec des boxplots\n",
        "numerical_cols = data.select_dtypes(include=['number']).columns  # Sélectionner les colonnes numériques\n",
        "for col in numerical_cols:\n",
        "    plt.figure(figsize=(8, 6))\n",
        "    sns.boxplot(x=data[col])\n",
        "    plt.title(f'Boxplot de {col}')\n",
        "    plt.show()\n"
      ],
      "metadata": {
        "id": "4NvQsQAzCb1m"
      },
      "execution_count": null,
      "outputs": []
    },
    {
      "cell_type": "markdown",
      "source": [
        "A travers nos Boxplots il nous semble que ce sont nos colonnes \"Sales per Unit\", \"Quantity\", \"Total Sales\" qui contiennent des valeurs aberrantes."
      ],
      "metadata": {
        "id": "K2TtKqQrFS9S"
      }
    },
    {
      "cell_type": "code",
      "source": [
        "# Appliquer une transformation logarithmique aux colonnes avec valeurs aberrantes\n",
        "for col in ['Sales per Unit', 'Quantity', 'Total Sales']:\n",
        "    # Ajouter 1 pour éviter le logarithme de zéro\n",
        "    data[col + '_log'] = np.log1p(data[col])\n",
        "\n",
        "# Visualiser les boxplots après transformation logarithmique\n",
        "for col in ['Sales per Unit_log', 'Quantity_log', 'Total Sales_log']:\n",
        "    plt.figure(figsize=(8, 6))\n",
        "    sns.boxplot(x=data[col])\n",
        "    plt.title(f'Boxplot de {col} (après transformation logarithmique)')\n",
        "    plt.show()"
      ],
      "metadata": {
        "id": "nY41l_3YG3D4"
      },
      "execution_count": null,
      "outputs": []
    },
    {
      "cell_type": "markdown",
      "source": [
        "# 2. Analyse Exploratoire des Données (EDA)"
      ],
      "metadata": {
        "id": "-kNiCGt9IiXt"
      }
    },
    {
      "cell_type": "markdown",
      "source": [
        "**a. Visualisation des Ventes**\n",
        "\n",
        "\n",
        "*   Créer des graphiques pour visualiser les ventes totales au fil du temps.\n",
        "\n"
      ],
      "metadata": {
        "id": "WdTHpo5fIrRV"
      }
    },
    {
      "cell_type": "code",
      "source": [
        "sales_over_time = data.groupby('Order Date')['Total Sales'].sum()\n",
        "plt.figure(figsize=(12, 6))\n",
        "sales_over_time.plot()\n",
        "plt.title('Ventes Totales au Fil du Temps')\n",
        "plt.xlabel('Date')\n",
        "plt.ylabel('Ventes Totales')\n",
        "plt.show()"
      ],
      "metadata": {
        "id": "epxZpAr5Ikw7"
      },
      "execution_count": null,
      "outputs": []
    },
    {
      "cell_type": "markdown",
      "source": [
        "# b. Analyse des Avis\n",
        "\n",
        "**Analyser les sentiments des avis.**"
      ],
      "metadata": {
        "id": "81HF_eHiT2mv"
      }
    },
    {
      "cell_type": "code",
      "source": [
        "import plotly.express as px\n",
        "fig = px.histogram(data, x=\"Review\", title=\"Distribution of Reviews\")\n",
        "fig.show()"
      ],
      "metadata": {
        "id": "0rN7pp9SVNIu"
      },
      "execution_count": null,
      "outputs": []
    },
    {
      "cell_type": "markdown",
      "source": [
        "# 3. Analyse des Tendances"
      ],
      "metadata": {
        "id": "ZmKIv-snWXbc"
      }
    },
    {
      "cell_type": "markdown",
      "source": [
        "**a. Ventes par Catégorie de Produit**"
      ],
      "metadata": {
        "id": "OKxeZlWnWdwj"
      }
    },
    {
      "cell_type": "code",
      "source": [
        "category_sales = data.groupby('Product Category')['Total Sales'].sum().sort_values()\n",
        "fig = px.bar(category_sales, y=category_sales.index, x='Total Sales', title='Ventes par Catégorie de Produit')\n",
        "fig.show()"
      ],
      "metadata": {
        "id": "wAJy0A4iXyNg"
      },
      "execution_count": null,
      "outputs": []
    },
    {
      "cell_type": "markdown",
      "source": [
        "**b. Ventes par Genre**"
      ],
      "metadata": {
        "id": "Iw28xM3CZH1A"
      }
    },
    {
      "cell_type": "code",
      "source": [
        "gender_sales = data.groupby('Buyer Gender')['Total Sales'].sum()\n",
        "fig = px.pie(data, values='Total Sales', names='Buyer Gender', title='Ventes par Genre')\n",
        "fig.show()"
      ],
      "metadata": {
        "id": "NmrbQz8IZZXt"
      },
      "execution_count": null,
      "outputs": []
    },
    {
      "cell_type": "markdown",
      "source": [
        "# 4. Modélisation Prédictive"
      ],
      "metadata": {
        "id": "cdyTEUZ4bpLP"
      }
    },
    {
      "cell_type": "markdown",
      "source": [
        "**a. Préparation des Données pour la Modélisation**\n",
        "\n",
        "\n",
        "* Créer des fonctionnalités basées sur le temps (jour, mois, année).\n",
        "* Créer des variables d'entrée et de sortie pour l'apprentissage automatique.\n",
        "\n",
        "\n"
      ],
      "metadata": {
        "id": "1gndicAsbu2F"
      }
    },
    {
      "cell_type": "code",
      "source": [
        "data['Year'] = data['Order Date'].dt.year\n",
        "data['Month'] = data['Order Date'].dt.month\n",
        "X = data[['Year', 'Month']]\n",
        "y = data['Total Sales']"
      ],
      "metadata": {
        "id": "Li9p3mIYb92k"
      },
      "execution_count": null,
      "outputs": []
    },
    {
      "cell_type": "markdown",
      "source": [
        "**b. Division des Données**\n",
        "* Diviser les données en ensembles de formation et de test"
      ],
      "metadata": {
        "id": "a_5PekuwcR7d"
      }
    },
    {
      "cell_type": "code",
      "source": [
        "from sklearn.model_selection import train_test_split\n",
        "\n",
        "X_train, X_test, y_train, y_test = train_test_split(X, y, test_size=0.2, random_state=42)"
      ],
      "metadata": {
        "id": "v35K9n3pckZT"
      },
      "execution_count": null,
      "outputs": []
    },
    {
      "cell_type": "markdown",
      "source": [
        "**c. Choix du Modèle**\n",
        "*  Utiliser un modèle de régression (par exemple, RandomForestRegressor)."
      ],
      "metadata": {
        "id": "9mCgArGtc9fL"
      }
    },
    {
      "cell_type": "code",
      "source": [
        "from sklearn.ensemble import RandomForestRegressor\n",
        "\n",
        "model = RandomForestRegressor()\n",
        "model.fit(X_train, y_train)"
      ],
      "metadata": {
        "id": "7BrSL64HdT_7"
      },
      "execution_count": null,
      "outputs": []
    },
    {
      "cell_type": "markdown",
      "source": [
        "**d. Prédiction et Évaluation**"
      ],
      "metadata": {
        "id": "SimoIq3qdad7"
      }
    },
    {
      "cell_type": "code",
      "source": [
        "from sklearn.metrics import mean_squared_error, mean_absolute_error\n",
        "\n",
        "predictions = model.predict(X_test)\n",
        "print(f'MSE: {mean_squared_error(y_test, predictions)}')\n",
        "print(f'MAE: {mean_absolute_error(y_test, predictions)}')"
      ],
      "metadata": {
        "id": "rQjZ74wYdfRz"
      },
      "execution_count": null,
      "outputs": []
    },
    {
      "cell_type": "markdown",
      "source": [
        "## 5. Visualisation des Prédictions\n",
        "* Comparer les prédictions aux valeurs réelles."
      ],
      "metadata": {
        "id": "wwkyL1Z4dkhF"
      }
    },
    {
      "cell_type": "code",
      "source": [
        "plt.figure(figsize=(12, 6))\n",
        "plt.plot(y_test.values, label='Ventes Réelles')\n",
        "plt.plot(predictions, label='Prédictions', alpha=0.7)\n",
        "plt.title('Comparaison des Ventes Réelles et Prédites')\n",
        "plt.xlabel('Index')\n",
        "plt.ylabel('Ventes Totales')\n",
        "plt.legend()\n",
        "plt.show()"
      ],
      "metadata": {
        "id": "OHWjTKbad187"
      },
      "execution_count": null,
      "outputs": []
    },
    {
      "cell_type": "code",
      "source": [
        "results_df = pd.DataFrame({'Actual Sales': y_test.values, 'Predicted Sales': predictions})\n",
        "\n",
        "# Display the DataFrame\n",
        "results_df"
      ],
      "metadata": {
        "id": "20KSiJBvgDPw"
      },
      "execution_count": null,
      "outputs": []
    }
  ]
}