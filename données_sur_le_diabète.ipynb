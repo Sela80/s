{
  "nbformat": 4,
  "nbformat_minor": 0,
  "metadata": {
    "colab": {
      "private_outputs": true,
      "provenance": [],
      "authorship_tag": "ABX9TyMXD0IsUlRpZuZU0UXdePF0",
      "include_colab_link": true
    },
    "kernelspec": {
      "name": "python3",
      "display_name": "Python 3"
    },
    "language_info": {
      "name": "python"
    }
  },
  "cells": [
    {
      "cell_type": "markdown",
      "metadata": {
        "id": "view-in-github",
        "colab_type": "text"
      },
      "source": [
        "<a href=\"https://colab.research.google.com/github/Sela80/s/blob/main/donn%C3%A9es_sur_le_diab%C3%A8te.ipynb\" target=\"_parent\"><img src=\"https://colab.research.google.com/assets/colab-badge.svg\" alt=\"Open In Colab\"/></a>"
      ]
    },
    {
      "cell_type": "code",
      "source": [
        "!pip install opendatasets --upgrade --quiet"
      ],
      "metadata": {
        "id": "GAOpaeUTnOhD"
      },
      "execution_count": null,
      "outputs": []
    },
    {
      "cell_type": "code",
      "execution_count": null,
      "metadata": {
        "id": "L-DcaOTXm8NT"
      },
      "outputs": [],
      "source": [
        "import pandas as pd\n",
        "import pandas as pd\n",
        "import numpy as np\n",
        "import numpy as np\n",
        "from sklearn.model_selection import train_test_split\n",
        "from sklearn.preprocessing import StandardScaler\n",
        "from sklearn.pipeline import Pipeline\n",
        "from sklearn.compose import ColumnTransformer\n",
        "from sklearn.metrics import accuracy_score, roc_auc_score, confusion_matrix, classification_report, RocCurveDisplay\n",
        "from sklearn.linear_model import LogisticRegression\n",
        "from sklearn.ensemble import RandomForestClassifier\n",
        "import matplotlib.pyplot as plt\n",
        "from sklearn.model_selection import train_test_split, StratifiedKFold, cross_val_score\n",
        "import seaborn as sns\n",
        "import joblib"
      ]
    },
    {
      "cell_type": "code",
      "source": [
        "# Importation d'une Base de données Depuis Kaggle\n",
        "import opendatasets as od\n",
        "od.download('https://www.kaggle.com/datasets/akshaydattatraykhare/diabetes-dataset')"
      ],
      "metadata": {
        "id": "_xXNVB15nSJa"
      },
      "execution_count": null,
      "outputs": []
    },
    {
      "cell_type": "code",
      "source": [
        "df=pd.read_csv('/content/diabetes-dataset/diabetes.csv')"
      ],
      "metadata": {
        "id": "vKlVEKlWnUST"
      },
      "execution_count": null,
      "outputs": []
    },
    {
      "cell_type": "code",
      "source": [
        "df.head()"
      ],
      "metadata": {
        "id": "7Txq9-i9nuoh"
      },
      "execution_count": null,
      "outputs": []
    },
    {
      "cell_type": "code",
      "source": [
        "df.info()"
      ],
      "metadata": {
        "id": "owQ-cjFtnxuD"
      },
      "execution_count": null,
      "outputs": []
    },
    {
      "cell_type": "code",
      "source": [
        "df.isna().sum()"
      ],
      "metadata": {
        "id": "nkPRKrZZn1g5"
      },
      "execution_count": null,
      "outputs": []
    },
    {
      "cell_type": "code",
      "source": [
        "df.duplicated().sum()"
      ],
      "metadata": {
        "id": "o5VFzq9Vn-Jj"
      },
      "execution_count": null,
      "outputs": []
    },
    {
      "cell_type": "code",
      "source": [
        "df.columns"
      ],
      "metadata": {
        "id": "6Iyy7gCoSm1p"
      },
      "execution_count": null,
      "outputs": []
    },
    {
      "cell_type": "code",
      "source": [
        "df.describe().transpose()"
      ],
      "metadata": {
        "id": "yIp1SZ60n6TB"
      },
      "execution_count": null,
      "outputs": []
    },
    {
      "cell_type": "markdown",
      "source": [
        "#Prétraitement"
      ],
      "metadata": {
        "id": "kuW_2a_5ow14"
      }
    },
    {
      "cell_type": "code",
      "source": [
        "x = df.drop('Outcome', axis=1)\n",
        "y = df['Outcome']\n",
        "x_train, x_test, y_train, y_test = train_test_split(x, y, test_size=0.2, random_state=42)"
      ],
      "metadata": {
        "id": "d3gZsumbNbko"
      },
      "execution_count": null,
      "outputs": []
    },
    {
      "cell_type": "code",
      "source": [
        "#Calcule le nombre maximale de variable(max_features) à la racine carrée\n",
        "max_features = int(np.sqrt(x.shape[1]))\n",
        "#Créer la forêt aléatoire avec les hyperparamètres fixés\n",
        "random_Forest = RandomForestClassifier(n_estimators=100, max_features=max_features, random_state=42, oob_score = True)\n",
        "#Entraîner le modèle sur les données d'entraînement\n",
        "random_Forest.fit(x_train, y_train)"
      ],
      "metadata": {
        "id": "Ho9-rjaV5gXa"
      },
      "execution_count": null,
      "outputs": []
    },
    {
      "cell_type": "markdown",
      "source": [
        "#Predire sur les bases de Train et Test"
      ],
      "metadata": {
        "id": "92smrZ_D8ksf"
      }
    },
    {
      "cell_type": "code",
      "source": [
        "# Predire les classes sur l'ensemble  de Train et Test\n",
        "y_train_pred = random_Forest.predict(x_train)\n",
        "y_test_pred = random_Forest.predict(x_test)"
      ],
      "metadata": {
        "id": "WI81YTPZ8vGf"
      },
      "execution_count": null,
      "outputs": []
    },
    {
      "cell_type": "code",
      "source": [
        "#Calcule les mesures de performance\n",
        "from sklearn.metrics import accuracy_score, roc_auc_score, confusion_matrix, classification_report, RocCurveDisplay\n",
        "from sklearn.metrics import recall_score\n",
        "train_accuracy = accuracy_score(y_train, y_train_pred)\n",
        "test_accuracy = accuracy_score(y_test, y_test_pred)\n",
        "train_auc = roc_auc_score(y_train, y_train_pred)\n",
        "test_auc = roc_auc_score(y_test, y_test_pred)\n",
        "train_recall = recall_score(y_train, y_train_pred)\n",
        "test_recall = recall_score(y_test, y_test_pred)\n",
        "\n",
        "#Créer le tableau d'évaluation de performance\n",
        "\n",
        "performance_Table = pd.DataFrame({\n",
        "    'Metrique' : ['Accuracy', 'AUC', 'Recall'],\n",
        "    'Ensembe_d\\'Entrainement' : [train_accuracy, train_auc, train_recall],\n",
        "    'Ensemble_Test' : [test_accuracy, test_auc, test_recall]\n",
        "})\n",
        "\n",
        "# Afficher le tableau d'évaluation\n",
        "print(performance_Table)\n"
      ],
      "metadata": {
        "id": "eFr0H7jM9Xyl"
      },
      "execution_count": null,
      "outputs": []
    },
    {
      "cell_type": "code",
      "source": [
        "import matplotlib.pyplot as plt\n",
        "from sklearn.metrics import roc_curve\n",
        "#Obtenir le score de probability pour les classes positive\n",
        "\n",
        "y_train_proba = random_Forest.predict_proba(x_train)[:, 1]\n",
        "y_test_proba = random_Forest.predict_proba(x_test)[:, 1]\n",
        "\n",
        "#Calcule des faux positifs(FPR) et les taux de vrais positifs (TPR)\n",
        "fpr_train, tpr_train, _ = roc_curve(y_train, y_train_proba)\n",
        "fpr_test, tpr_test, _ = roc_curve(y_test, y_test_proba)\n",
        "\n",
        "#Comparaison de Train_socore et test_score\n",
        "train_score = random_Forest.score(x_train, y_train)\n",
        "test_score = random_Forest.score(x_test, y_test)\n",
        "print(f\"Train_score: {train_score:.2f}\")\n",
        "print(f\"Test_score: {test_score:.2f}\")"
      ],
      "metadata": {
        "id": "qahHsptf_JmE"
      },
      "execution_count": null,
      "outputs": []
    },
    {
      "cell_type": "code",
      "source": [
        "# Trace de la courbe ROC\n",
        "plt.figure(figsize=(8, 6))\n",
        "plt.plot(fpr_train, tpr_train, label='Ensembe_d\\'Entrainement')\n",
        "plt.plot(fpr_test, tpr_test, label='Ensemble_Test')\n",
        "plt.plot([0, 1], [0, 1], 'k--', label='Random Classifier')\n",
        "plt.xlabel('False Positive Rate')\n",
        "plt.ylabel('True Positive Rate')\n",
        "plt.title('Courbe ROC')\n",
        "plt.legend()\n",
        "plt.show()"
      ],
      "metadata": {
        "id": "3H0IhhPmKWxy"
      },
      "execution_count": null,
      "outputs": []
    },
    {
      "cell_type": "markdown",
      "source": [
        "# Importance des variables"
      ],
      "metadata": {
        "id": "X6knnq1iBXA6"
      }
    },
    {
      "cell_type": "code",
      "source": [
        "# Obtenir l'importance des variables\n",
        "importance_df = pd.DataFrame({\n",
        "    'Variable': x.columns,\n",
        "    'Importance': random_Forest.feature_importances_\n",
        "})\n",
        "\n",
        "importance_df = importance_df.sort_values(by='Importance', ascending=False)\n",
        "\n",
        "# Afficher les 10 variables les plus importantes\n",
        "print(\"Les 10 variables les plus importantes sont :\")\n",
        "print(importance_df.head(10))"
      ],
      "metadata": {
        "id": "4GIkXGDkBhFa"
      },
      "execution_count": null,
      "outputs": []
    },
    {
      "cell_type": "code",
      "source": [
        "#Trace l'importance des variables\n",
        "\n",
        "plt.figure(figsize=(10, 6))\n",
        "sns.barplot(x='Importance', y='Variable', data=importance_df.head(10))\n",
        "plt.title('Importance des variables')\n",
        "plt.show()"
      ],
      "metadata": {
        "id": "a7rfkX27CevI"
      },
      "execution_count": null,
      "outputs": []
    },
    {
      "cell_type": "code",
      "source": [
        "joblib.dump(random_Forest, 'RandomForestRegressor.pkl')"
      ],
      "metadata": {
        "id": "3SZseMAeYwcC"
      },
      "execution_count": null,
      "outputs": []
    },
    {
      "cell_type": "code",
      "source": [
        "from google.colab import files\n",
        "files.download('RandomForestRegressor.pkl')"
      ],
      "metadata": {
        "id": "0y2vkfi2ZGpp"
      },
      "execution_count": null,
      "outputs": []
    }
  ]
}