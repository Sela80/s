{
  "nbformat": 4,
  "nbformat_minor": 0,
  "metadata": {
    "colab": {
      "private_outputs": true,
      "provenance": [],
      "authorship_tag": "ABX9TyM3hHo/JxZYKSIu7eEJa0oX",
      "include_colab_link": true
    },
    "kernelspec": {
      "name": "python3",
      "display_name": "Python 3"
    },
    "language_info": {
      "name": "python"
    }
  },
  "cells": [
    {
      "cell_type": "markdown",
      "metadata": {
        "id": "view-in-github",
        "colab_type": "text"
      },
      "source": [
        "<a href=\"https://colab.research.google.com/github/Sela80/s/blob/main/Donn%C3%A9es_sur_les_vols_des_compagnies_a%C3%A9riennes.ipynb\" target=\"_parent\"><img src=\"https://colab.research.google.com/assets/colab-badge.svg\" alt=\"Open In Colab\"/></a>"
      ]
    },
    {
      "cell_type": "markdown",
      "source": [
        "# **A Savoir:**\n",
        "\n",
        "Ensemble de données sur les vols des compagnies aériennes pour différentes villes\n",
        "Les données de réservation de vols de diverses compagnies aériennes sont extraites d'un site web réputé et présentées dans un format structuré. Elles contiennent les détails des vols entre les villes indiennes. Plusieurs caractéristiques sont présentées, telles que les villes d'origine et de destination, les heures d'arrivée et de départ, la durée et le prix du vol, etc.\n",
        "\n",
        "Ces données sont disponibles au format CSV. Nous allons les analyser à l'aide du DataFrame Pandas.\n",
        "\n",
        "Cette analyse sera utile à ceux qui travaillent dans le domaine des compagnies aériennes et du voyage.\n",
        "\n",
        "\n",
        "\n",
        "\n",
        "\n",
        "\n",
        "Voici les principales fonctionnalités/colonnes disponibles dans l'ensemble de données :\n",
        "\n",
        "1) Compagnie aérienne : Le nom de la compagnie aérienne est enregistré dans la colonne « Compagnie aérienne ». Il s'agit d'une fonction catégorique comportant six compagnies aériennes différentes.\n",
        "\n",
        "2) Vol : « Vol » stocke les informations concernant le code de vol de l'avion. Il s'agit d'une fonctionnalité catégorique.\n",
        "\n",
        "3) Ville source : Ville d'où décolle le vol. Il s'agit d'une caractéristique catégorique comportant 6 villes uniques.\n",
        "\n",
        "4) Heure de départ : il s'agit d'une fonction catégorielle dérivée, créée en regroupant des périodes de temps en catégories. Elle stocke les informations relatives à l'heure de départ et possède six étiquettes horaires uniques.\n",
        "\n",
        "5) Arrêts : une fonctionnalité catégorielle avec 3 valeurs distinctes qui stocke le nombre d'arrêts entre les villes source et de destination.\n",
        "\n",
        "6) Heure d'arrivée : il s'agit d'une fonction catégorielle dérivée créée en regroupant des intervalles de temps en catégories. Elle comporte six étiquettes temporelles distinctes et conserve des informations sur l'heure d'arrivée.\n",
        "\n",
        "7) Ville de destination : Ville d'atterrissage. Il s'agit d'une fonctionnalité catégorique comportant 6 villes distinctes.\n",
        "\n",
        "8) Classe : une caractéristique catégorielle qui contient des informations sur la classe du siège ; elle a deux valeurs distinctes : Affaires et Économie.\n",
        "\n",
        "9) Durée : une fonctionnalité continue qui affiche le temps total nécessaire pour voyager entre les villes en heures.\n",
        "\n",
        "10) Jours restants : il s'agit d'une caractéristique dérivée qui est calculée en soustrayant la date du voyage par la date de réservation.\n",
        "\n",
        "11) Prix : La variable cible stocke les informations sur le prix du billet."
      ],
      "metadata": {
        "id": "Lc4Vd-DyXAAW"
      }
    },
    {
      "cell_type": "markdown",
      "source": [
        "# **A Faire:**\n",
        "\n",
        "\n",
        "**Questions**:\n",
        "\n",
        "Q.1. Quelles sont les compagnies aériennes présentes dans l'ensemble de données, accompagnées de leurs fréquences ?\n",
        "\n",
        "Q.2. Afficher les graphiques à barres représentant l'heure de départ et l'heure d'arrivée.\n",
        "\n",
        "Q.3. Afficher les graphiques à barres représentant la ville source et la ville de destination.\n",
        "\n",
        "Q.4. Le prix varie-t-il selon les compagnies aériennes ?\n",
        "\n",
        "Q.5. Le prix du billet change-t-il en fonction de l'heure de départ et de l'heure d'arrivée ?\n",
        "\n",
        "Q.6. Comment le prix change-t-il en fonction du changement de source et de destination ?\n",
        "\n",
        "Q.7. Quel est l'impact sur le prix des billets achetés 1 ou 2 jours avant le départ ?\n",
        "\n",
        "Q.8. Comment le prix du billet varie-t-il entre la classe économique et la classe affaires ?\n",
        "\n",
        "Q.9. Quel sera le prix moyen de la compagnie aérienne Vistara pour un vol de Delhi à Hyderabad en classe affaires ?\n",
        "\n",
        "- En utilisant cet ensemble de données,  Nous allons essayer de répondre aux différentes Questions posées ci-dessus et propose quelques conseils"
      ],
      "metadata": {
        "id": "eUw7XjUljYRo"
      }
    },
    {
      "cell_type": "code",
      "execution_count": null,
      "metadata": {
        "id": "8S4M-xNcV0D8"
      },
      "outputs": [],
      "source": [
        "#Importation des bibliothèques nécessaires\n",
        "import numpy as np\n",
        "import pandas as pd\n",
        "import matplotlib.pyplot as plt\n",
        "import plotly.express as px\n",
        "import seaborn as sns\n",
        "from sklearn.preprocessing import LabelEncoder\n",
        "from sklearn.model_selection import train_test_split\n",
        "from sklearn.metrics import mean_squared_error, r2_score"
      ]
    },
    {
      "cell_type": "code",
      "source": [
        "!pip install opendatasets\n"
      ],
      "metadata": {
        "id": "TW7kqJd_WtiI"
      },
      "execution_count": null,
      "outputs": []
    },
    {
      "cell_type": "markdown",
      "source": [
        "\n",
        "\n",
        "# **1.   Exploitation de la Dataset**\n",
        "\n"
      ],
      "metadata": {
        "id": "JF0rPlHHLyeY"
      }
    },
    {
      "cell_type": "code",
      "source": [
        "# Importation d'une Base de données Depuis Kaggle\n",
        "import opendatasets as od\n",
        "od.download('https://www.kaggle.com/datasets/rohitgrewal/airlines-flights-data')"
      ],
      "metadata": {
        "id": "IpBHk6ifWy25"
      },
      "execution_count": null,
      "outputs": []
    },
    {
      "cell_type": "code",
      "source": [
        "# Chargement de notre Dataset\n",
        "df=pd.read_csv('/content/airlines-flights-data/airlines_flights_data.csv')"
      ],
      "metadata": {
        "id": "XSVtT_fPXvxV"
      },
      "execution_count": null,
      "outputs": []
    },
    {
      "cell_type": "code",
      "source": [
        "df.head()"
      ],
      "metadata": {
        "id": "b464jiu0ZwzB"
      },
      "execution_count": null,
      "outputs": []
    },
    {
      "cell_type": "code",
      "source": [
        "df.info()"
      ],
      "metadata": {
        "id": "yCr_mqlcaKJ2"
      },
      "execution_count": null,
      "outputs": []
    },
    {
      "cell_type": "code",
      "source": [
        "df.isna().sum()"
      ],
      "metadata": {
        "id": "A67F_48okzQu"
      },
      "execution_count": null,
      "outputs": []
    },
    {
      "cell_type": "code",
      "source": [
        "df.duplicated().sum()"
      ],
      "metadata": {
        "id": "__tE7uFunBkT"
      },
      "execution_count": null,
      "outputs": []
    },
    {
      "cell_type": "code",
      "source": [
        "df.describe().transpose()"
      ],
      "metadata": {
        "id": "kgI2cHUqnrIN"
      },
      "execution_count": null,
      "outputs": []
    },
    {
      "cell_type": "markdown",
      "source": [
        "# **2. Visualisations**"
      ],
      "metadata": {
        "id": "8dNHPuKkn4eT"
      }
    },
    {
      "cell_type": "markdown",
      "source": [
        "Voyons dans un premier temps la corrélation entre les données à travers une Matrice de corrélation"
      ],
      "metadata": {
        "id": "WHpMvQeuMaPH"
      }
    },
    {
      "cell_type": "code",
      "source": [
        "corr_matrix = df.select_dtypes(include=np.number).corr()\n",
        "plt.figure(figsize=(10, 8))\n",
        "sns.heatmap(corr_matrix, annot=True, cmap='coolwarm', fmt=\".2f\")\n",
        "plt.title('Matrice de Corrélation')\n",
        "plt.show()"
      ],
      "metadata": {
        "id": "ZCkVmwRDoB0a"
      },
      "execution_count": null,
      "outputs": []
    },
    {
      "cell_type": "markdown",
      "source": [
        " Cette matrice nous laisse dire qu'il y a une bonne corrélation entre le prix des différentes entreprises (**Price**) et ID(**Index**). cette corrélation n'aucune importance dans notre projet ici.\n",
        "\n",
        " mais on a pas mal de corrélation en tout cas.\n"
      ],
      "metadata": {
        "id": "Uj-1eMyIOni8"
      }
    },
    {
      "cell_type": "markdown",
      "source": [
        " Quelles sont les compagnies aériennes présentes dans l'ensemble de données, accompagnées de leurs fréquences:"
      ],
      "metadata": {
        "id": "aCd5iD9zpjky"
      }
    },
    {
      "cell_type": "code",
      "source": [
        "airline_counts = df['airline'].value_counts()\n",
        "plt.figure(figsize=(10, 6))\n",
        "sns.barplot(x=airline_counts.index, y=airline_counts.values)\n",
        "plt.xlabel('Compagnies aériennes')\n",
        "plt.ylabel('Fréquence')\n",
        "plt.title('Fréquence des compagnies aériennes')\n",
        "plt.xticks(rotation=45)\n",
        "plt.show()\n",
        "\n"
      ],
      "metadata": {
        "id": "zrMZk84VuIkF"
      },
      "execution_count": null,
      "outputs": []
    },
    {
      "cell_type": "markdown",
      "source": [
        "Ce graphe nous laisse dire que la compagnies aériennes plus présentes est **Vistara** avec une fréquence de **120.000** et plus. par contre les autres compagnies (Air_India... Spicejet) varies **80.000** et **20.000** de fréquences."
      ],
      "metadata": {
        "id": "AP4ycd0bVPf-"
      }
    },
    {
      "cell_type": "markdown",
      "source": [
        "Affichons maintenant les graphiques à barres représentant l'heure de départ et l'heure d'arrivée d'une air"
      ],
      "metadata": {
        "id": "WZcp0o7hvMOs"
      }
    },
    {
      "cell_type": "code",
      "source": [
        "plt.figure(figsize=(12, 6))\n",
        "\n",
        "plt.subplot(1, 2, 1)\n",
        "departure_counts = df['departure_time'].value_counts()\n",
        "sns.barplot(x=departure_counts.index, y=departure_counts.values)\n",
        "plt.xlabel('Heure de départ')\n",
        "plt.ylabel('Fréquence')\n",
        "plt.title('Fréquence des heures de départ')\n",
        "plt.xticks(rotation=45)\n",
        "\n",
        "plt.subplot(1, 2, 2)\n",
        "arrival_counts = df['arrival_time'].value_counts()\n",
        "sns.barplot(x=arrival_counts.index, y=arrival_counts.values)\n",
        "plt.xlabel('Heure d\\'arrivée')\n",
        "plt.ylabel('Fréquence')\n",
        "plt.title('Fréquence des heures d\\'arrivée')\n",
        "plt.xticks(rotation=45)\n",
        "\n",
        "plt.tight_layout()\n",
        "plt.show()"
      ],
      "metadata": {
        "id": "zw8ahKcHzeLf"
      },
      "execution_count": null,
      "outputs": []
    },
    {
      "cell_type": "markdown",
      "source": [
        "D'après le graphique à barres montrant la fréquence des heures de départ, on peut observer ce qui suit :\n",
        "\n",
        "- Matin et Tôt le matin\n",
        " ont les fréquences les plus élevées, ce qui indique qu'un grand nombre de vols partent pendant ces heures.\n",
        "\n",
        "- Le Soir affiche également un nombre important de départs, similaire au matin et tôt le matin.\n",
        "\n",
        "- La Nuit et l'Après-midi ont des fréquences modérément plus basses par rapport aux périodes précédentes.\n",
        "\n",
        "- La Fin de soirée a la fréquence la plus basse, ce qui suggère que très peu de vols partent pendant cette période."
      ],
      "metadata": {
        "id": "DC__alsaeb4_"
      }
    },
    {
      "cell_type": "markdown",
      "source": [
        "En regardant le graphique à barres des fréquences des heures d'arrivée, nous pouvons voir que :\n",
        "\n",
        "La Nuit a la fréquence la plus élevée pour les arrivées.\n",
        "Le Soir a également un nombre élevé d'arrivées, juste après la nuit.\n",
        "Le Matin a une fréquence d'arrivées modérée.\n",
        "L'Après-midi a une fréquence d'arrivées plus faible.\n",
        "Tôt le matin et la Fin de soirée ont les fréquences d'arrivées les plus basses."
      ],
      "metadata": {
        "id": "cwLgb9Zbc_8u"
      }
    },
    {
      "cell_type": "markdown",
      "source": [
        "En comparant les deux graphiques, on constate que les périodes les plus chargées pour les départs (Matin, Tôt le matin, Soir) ne correspondent pas exactement aux périodes les plus chargées pour les arrivées (Nuit, Soir).\n",
        "\n",
        "Les départs sont très fréquents le matin et en début de matinée, ainsi qu'en soirée.\n",
        "Les arrivées sont les plus fréquentes la nuit et en soirée.\n",
        "Cela suggère que les compagnies aériennes planifient un grand nombre de vols qui partent tôt le matin pour arriver plus tard dans la journée, ou qui partent en soirée pour arriver la nuit. Il y a aussi une activité importante en soirée pour les départs et les arrivées. La fin de soirée est la période la moins active pour les deux.\n",
        "\n"
      ],
      "metadata": {
        "id": "eeMxHPjlcFpQ"
      }
    },
    {
      "cell_type": "markdown",
      "source": [
        "Afficher les graphiques à barres représentant la ville source et la ville de destination."
      ],
      "metadata": {
        "id": "xz_llFLv0Teo"
      }
    },
    {
      "cell_type": "code",
      "source": [
        "# source_city\n",
        "source_city=df['source_city'].value_counts()\n",
        "plt.figure(figsize=(12, 6))\n",
        "fig=px.bar(source_city,\n",
        "           x=source_city.index,\n",
        "           y=source_city.values,\n",
        "           labels={'x': 'Ville source', 'y': 'Fréquence'},\n",
        "           title='Fréquence des villes de source')\n",
        "\n",
        "fig.show()\n",
        "\n",
        "# Destination_city\n",
        "destination_city=df['destination_city'].value_counts()\n",
        "plt.figure(figsize=(12, 6))\n",
        "fig=px.bar(destination_city,\n",
        "           x=destination_city.index,\n",
        "           y=destination_city.values,\n",
        "           labels={'x': 'Ville de destination', 'y': 'Fréquence'},\n",
        "           title='Fréquence des villes de destination')\n",
        "\n",
        "fig.show()"
      ],
      "metadata": {
        "id": "XfN2y2-h9gQW"
      },
      "execution_count": null,
      "outputs": []
    },
    {
      "cell_type": "markdown",
      "source": [
        "- En regardant le graphique à barres des fréquences des villes de départ ('source_city'), on observe que :\n",
        "\n",
        "Delhi et Mumbai sont les villes d'origine les plus fréquentes, avec un nombre similaire de vols.\n",
        "Bangalore, Kolkata, Hyderabad et Chennai suivent avec des fréquences décroissantes.\n",
        "\n",
        "- Pour le graphique à barres des fréquences des villes de destination ('destination_city') :\n",
        "\n",
        "Mumbai et Delhi sont également les destinations les plus fréquentes.\n",
        "Bangalore, Kolkata, Hyderabad et Chennai suivent de manière similaire aux villes de départ."
      ],
      "metadata": {
        "id": "bGiM5ckagu-j"
      }
    },
    {
      "cell_type": "markdown",
      "source": [
        "Le prix varie-t-il selon les compagnies aériennes ?"
      ],
      "metadata": {
        "id": "S-7eEWgU3PRM"
      }
    },
    {
      "cell_type": "code",
      "source": [
        "import plotly.express as px\n",
        "airline_price = df.groupby('airline')['price'].mean().sort_values(ascending=False)\n",
        "fig = px.bar(airline_price, x=airline_price.index, y=airline_price.values,\n",
        "             labels={'x': 'Compagnies aériennes', 'y': 'Prix moyen'},\n",
        "             title='Prix moyen des billets par compagnie aérienne')\n",
        "fig.show()"
      ],
      "metadata": {
        "id": "FRlL9fAg6qeo"
      },
      "execution_count": null,
      "outputs": []
    },
    {
      "cell_type": "markdown",
      "source": [
        "Le graphique montre le prix moyen des billets pour chaque compagnie aérienne, trié par ordre décroissant :\n",
        "\n",
        "Vistara a de loin le prix moyen le plus élevé.\n",
        "Air India a le deuxième prix moyen le plus élevé, mais il est nettement inférieur à celui de Vistara.\n",
        "SpiceJet, GO FIRST, Indigo et AirAsia ont des prix moyens beaucoup plus bas et sont assez similaires les uns aux autres.\n"
      ],
      "metadata": {
        "id": "ilFniSB6i8hx"
      }
    },
    {
      "cell_type": "markdown",
      "source": [
        "Le prix du billet change-t-il en fonction de l'heure de départ et de l'heure d'arrivée ?"
      ],
      "metadata": {
        "id": "n_3Hc3lkB1yZ"
      }
    },
    {
      "cell_type": "code",
      "source": [
        "Price_departure_time=df.groupby('departure_time')['price'].mean().sort_values(ascending=False)\n",
        "fig = px.bar(Price_departure_time, x=Price_departure_time.index, y=Price_departure_time.values,\n",
        "             labels={'x': 'Heure de départ', 'y': 'Prix moyen'},\n",
        "             title='Prix moyen des billets par heure de départ')\n",
        "fig.show()\n",
        "\n",
        "price_arrival_time=df.groupby('arrival_time')['price'].mean().sort_values(ascending=False)\n",
        "fig = px.bar(price_arrival_time, x=price_arrival_time.index, y=price_arrival_time.values,\n",
        "             labels={'x': 'Heure d\\'arrivée', 'y': 'Prix moyen'},\n",
        "             title='Prix moyen des billets par heure d\\'arrivée')\n",
        "fig.show()"
      ],
      "metadata": {
        "id": "8ipeQ38GBK5a"
      },
      "execution_count": null,
      "outputs": []
    },
    {
      "cell_type": "markdown",
      "source": [
        "Voici l'interprétation des graphiques du prix moyen des billets par heure de départ et par heure d'arrivée :\n",
        "\n",
        "- Prix moyen des billets par heure de départ :\n",
        "\n",
        "Le prix moyen le plus élevé est observé pour les départs de Nuit.\n",
        "Les départs du Matin et du Soir ont des prix moyens similaires, légèrement inférieurs à ceux de la nuit.\n",
        "\n",
        "Les départs de Tôt le matin ont un prix moyen légèrement inférieur aux départs du matin et du soir.\n",
        "\n",
        "L'Après-midi affiche un prix moyen plus bas.\n",
        "La Fin de soirée a le prix moyen le plus bas.\n",
        "\n",
        "- Prix moyen des billets par heure d'arrivée :\n",
        "\n",
        "Le prix moyen le plus élevé est observé pour les arrivées en Soirée.\n",
        "Les arrivées du Matin et de Nuit ont des prix moyens similaires, légèrement inférieurs à ceux de la soirée.\n",
        "\n",
        "L'Après-midi a un prix moyen plus bas.\n",
        "Les arrivées de Tôt le matin et de Fin de soirée ont les prix moyens les plus bas."
      ],
      "metadata": {
        "id": "rFOFVtZymRBN"
      }
    },
    {
      "cell_type": "markdown",
      "source": [
        "Comment le prix change-t-il en fonction du changement de source et de destination ?\n"
      ],
      "metadata": {
        "id": "jveSeXGICV4R"
      }
    },
    {
      "cell_type": "code",
      "source": [
        "price_source_city=df.groupby('source_city')['price'].mean().sort_values(ascending=False)\n",
        "fig = px.bar(price_source_city,\n",
        "             x=price_source_city.index,\n",
        "             y=price_source_city.values,\n",
        "             labels={'x': 'Ville source', 'y': 'Prix moyen'},\n",
        "             title='Prix moyen des billets par ville de source')\n",
        "fig.show()\n",
        "\n",
        "price_destination_city=df.groupby('destination_city')['price'].mean().sort_values(ascending=False)\n",
        "fig = px.bar(price_destination_city,\n",
        "             x=price_destination_city.index,\n",
        "             y=price_destination_city.values,\n",
        "             labels={'x': 'Ville de destination', 'y': 'Prix moyen'},\n",
        "             title='Prix moyen des billets par ville de destination')\n",
        "fig.show()"
      ],
      "metadata": {
        "id": "QQ57wIgnCb8B"
      },
      "execution_count": null,
      "outputs": []
    },
    {
      "cell_type": "markdown",
      "source": [
        "Voici l'interprétation des graphiques du prix moyen des billets par ville de source et par ville de destination :\n",
        "\n",
        "- Prix moyen des billets par ville de source :\n",
        "\n",
        "Chennai et Kolkata ont les prix moyens les plus élevés pour les vols au départ.\n",
        "Mumbai et Bangalore ont des prix moyens légèrement inférieurs mais toujours significatifs.\n",
        "Hyderabad a un prix moyen plus bas.\n",
        "Delhi a le prix moyen le plus bas pour les vols au départ.\n",
        "\n",
        "- Prix moyen des billets par ville de destination :\n",
        "\n",
        "Kolkata et Chennai ont également les prix moyens les plus élevés pour les vols à l'arrivée.\n",
        "Bangalore et Mumbai suivent avec des prix moyens similaires.\n",
        "Hyderabad a un prix moyen plus bas pour les arrivées.\n",
        "Delhi a le prix moyen le plus bas pour les arrivées."
      ],
      "metadata": {
        "id": "k3a24RQvn8F8"
      }
    },
    {
      "cell_type": "markdown",
      "source": [
        "Quel est l'impact sur le prix des billets achetés 1 ou 2 jours avant le départ ?\n"
      ],
      "metadata": {
        "id": "wRTf7I7yC0PA"
      }
    },
    {
      "cell_type": "code",
      "source": [
        "price_days_left = df.groupby('days_left')['price'].mean()\n",
        "price_1_2_days_left = price_days_left.loc[[1, 2]]\n",
        "price_1_2_days_left = price_1_2_days_left.sort_values(ascending=False)\n",
        "fig = px.bar(price_1_2_days_left,\n",
        "             x=price_1_2_days_left.index,\n",
        "             y=price_1_2_days_left.values,\n",
        "             labels={'x': 'Jours rest', 'y': 'Prix moyen'},\n",
        "             title='Prix moyen des billets par jours rest')\n",
        "fig.show()\n",
        "\n",
        "print(\"Average price for tickets purchased 1 or 2 days before departure:\")\n",
        "print(price_1_2_days_left)"
      ],
      "metadata": {
        "id": "JiVrr8UXErwH"
      },
      "execution_count": null,
      "outputs": []
    },
    {
      "cell_type": "markdown",
      "source": [
        "Interprétation du graphique du prix moyen des billets en fonction du nombre de jours restants avant le départ, en se concentrant sur 1 et 2 jours :\n",
        "\n",
        "D'après les données pour 1 et 2 jours restants :\n",
        "\n",
        "- Le prix moyen des billets achetés 2 jours avant le départ est d'environ 30211.30.\n",
        "- Le prix moyen des billets achetés 1 jour avant le départ est d'environ 21591.87."
      ],
      "metadata": {
        "id": "1UzjXORFtE52"
      }
    },
    {
      "cell_type": "markdown",
      "source": [
        "\n",
        "\n",
        "\n",
        "\n",
        "Comment le prix du billet varie-t-il entre la classe économique et la classe affaires ?"
      ],
      "metadata": {
        "id": "71yGz7BV3Fzk"
      }
    },
    {
      "cell_type": "code",
      "source": [
        "price_clacc = df.groupby('class')['price'].mean().sort_values(ascending=False)\n",
        "fig = px.bar(price_clacc,\n",
        "             x=price_clacc.index,\n",
        "             y=price_clacc.values,\n",
        "             labels={'x': 'Classe', 'y': 'Prix moyen'},\n",
        "             title='Prix moyen des billets par classe')\n",
        "fig.show()\n"
      ],
      "metadata": {
        "id": "l_vv4ZcXwqAA"
      },
      "execution_count": null,
      "outputs": []
    },
    {
      "cell_type": "markdown",
      "source": [
        "Quel sera le prix moyen de la compagnie aérienne Vistara pour un vol de Delhi à Hyderabad en classe affaires ?\n",
        "\n",
        "Notre dernière question nous amène à un problème de machine Learning\n"
      ],
      "metadata": {
        "id": "UG2wLQOoI32D"
      }
    },
    {
      "cell_type": "code",
      "source": [
        "vistara_delhi_hyderabad_business = df[\n",
        "    (df['airline'] == 'Vistara') &\n",
        "    (df['source_city'] == 'Delhi') &\n",
        "    (df['destination_city'] == 'Hyderabad') &\n",
        "    (df['class'] == 'Business')\n",
        "]\n",
        "\n",
        "average_price_vistara_delhi_hyderabad_business = vistara_delhi_hyderabad_business['price'].mean()\n",
        "\n",
        "print(f\"Le prix moyen de la compagnie aérienne Vistara pour un vol de Delhi à Hyderabad en classe affaires est : {average_price_vistara_delhi_hyderabad_business:.2f}\")"
      ],
      "metadata": {
        "id": "hqqeiA1Qv7Xz"
      },
      "execution_count": null,
      "outputs": []
    },
    {
      "cell_type": "markdown",
      "metadata": {
        "id": "c84eb0cb"
      },
      "source": [
        "## Préparation des données\n",
        "\n",
        "Gérer les variables catégorielles en utilisant des techniques d'encodage appropriées (comme l'encodage one-hot). Séparer les caractéristiques (X) de la variable cible (y - prix).\n"
      ]
    },
    {
      "cell_type": "code",
      "metadata": {
        "id": "8be19c95"
      },
      "source": [
        "categorical_cols = df.select_dtypes(include='object').columns\n",
        "df_encoded = pd.get_dummies(df, columns=categorical_cols, drop_first=True)\n",
        "\n",
        "x = df_encoded.drop('price', axis=1)\n",
        "y = df_encoded['price']"
      ],
      "execution_count": null,
      "outputs": []
    },
    {
      "cell_type": "markdown",
      "metadata": {
        "id": "8f518b4b"
      },
      "source": [
        "## Division des données\n",
        "\n",
        "Diviser l'ensemble de données en ensembles d'entraînement et de test pour évaluer les performances du modèle.\n"
      ]
    },
    {
      "cell_type": "code",
      "metadata": {
        "id": "e0197197"
      },
      "source": [
        "from sklearn.model_selection import train_test_split\n",
        "x_train, x_test, y_train, y_test = train_test_split(x, y, test_size=0.2, random_state=42)"
      ],
      "execution_count": null,
      "outputs": []
    },
    {
      "cell_type": "markdown",
      "metadata": {
        "id": "29aebb53"
      },
      "source": [
        "## Sélection et entraînement du modèle\n",
        "\n",
        "Choisissons RandomForestRegressor\n"
      ]
    },
    {
      "cell_type": "code",
      "metadata": {
        "id": "c90e6566"
      },
      "source": [
        "from sklearn.ensemble import RandomForestRegressor\n",
        "model = RandomForestRegressor(random_state=42)\n",
        "model.fit(x_train, y_train)\n"
      ],
      "execution_count": null,
      "outputs": []
    },
    {
      "cell_type": "markdown",
      "metadata": {
        "id": "949fd905"
      },
      "source": [
        "## Évaluation du modèle\n",
        "\n",
        "Évaluer les performances du modèle sur l'ensemble de test en utilisant des métriques appropriées (par exemple, Erreur Quadratique Moyenne (RMSE), Coefficient de Détermination (R²)).\n"
      ]
    },
    {
      "cell_type": "code",
      "metadata": {
        "id": "72919d8b"
      },
      "source": [
        "y_pred = model.predict(x_test)\n",
        "mse = mean_squared_error(y_test, y_pred)\n",
        "rmse = np.sqrt(mse)\n",
        "r2 = r2_score(y_test, y_pred)\n",
        "\n",
        "print(f\"Root Mean Squared Error (RMSE): {rmse:.2f}\")\n",
        "print(f\"R-squared (R²): {r2:.2f}\")"
      ],
      "execution_count": null,
      "outputs": []
    },
    {
      "cell_type": "code",
      "source": [
        "features = ['airline', 'source_city', 'departure_time', 'arrival_time', 'destination_city', 'days_left', 'flight_class']\n"
      ],
      "metadata": {
        "id": "7ntpqUJPMCPr"
      },
      "execution_count": null,
      "outputs": []
    },
    {
      "cell_type": "code",
      "source": [
        "# Define the prediction function\n",
        "def predict_price(airline, source_city, departure_time, arrival_time, destination_city, days_left, flight_class):\n",
        "    input_data = pd.DataFrame({\n",
        "        'airline': [airline],\n",
        "        'source_city': [source_city],\n",
        "        'departure_time': [departure_time],\n",
        "        'arrival_time': [arrival_time],\n",
        "        'destination_city': [destination_city],\n",
        "        'days_left': [days_left],\n",
        "        'class': [flight_class]\n",
        "    })\n",
        "    input_data_encoded = pd.get_dummies(input_data, columns=['airline', 'source_city', 'departure_time', 'arrival_time', 'destination_city', 'class'], drop_first=True)\n",
        "    # The columns of the input data must match the columns of the training data\n",
        "    # Add missing columns with default value 0\n",
        "    missing_cols = set(x_train.columns) - set(input_data_encoded.columns)\n",
        "    for c in missing_cols:\n",
        "        input_data_encoded[c] = 0\n",
        "    # Ensure the order of columns is the same as in the training data\n",
        "    input_data_encoded = input_data_encoded[x_train.columns]\n",
        "    predicted_price = model.predict(input_data_encoded)\n",
        "    return predicted_price[0]\n",
        "\n",
        "# Get user input and predict price\n",
        "print(\"Please enter the flight details:\")\n",
        "\n",
        "airline = input(\"Enter airline: \")\n",
        "source_city = input(\"Enter source city: \")\n",
        "departure_time = input(\"Enter departure time (Morning, Early_Morning, Evening, Night, Afternoon, Late_Night): \")\n",
        "arrival_time = input(\"Enter arrival time (Morning, Early_Morning, Evening, Night, Afternoon, Late_Night): \")\n",
        "destination_city = input(\"Enter destination city: \")\n",
        "days_left = int(input(\"Enter days left before departure: \"))\n",
        "flight_class = input(\"Enter flight class (Economy, Business): \")\n",
        "\n",
        "predicted_price = predict_price(airline, source_city, departure_time, arrival_time, destination_city, days_left, flight_class)\n",
        "print(f\"\\nThe predicted price for the flight is: {predicted_price:.2f}\")"
      ],
      "metadata": {
        "id": "cSUd0Hj2eah4"
      },
      "execution_count": null,
      "outputs": []
    },
    {
      "cell_type": "code",
      "source": [
        "import warnings\n",
        "warnings.filterwarnings('ignore', category=pd.errors.PerformanceWarning)"
      ],
      "metadata": {
        "id": "a1T79bOEgooM"
      },
      "execution_count": null,
      "outputs": []
    },
    {
      "cell_type": "code",
      "source": [
        "df"
      ],
      "metadata": {
        "id": "XrvC4cODxjRn"
      },
      "execution_count": null,
      "outputs": []
    },
    {
      "cell_type": "code",
      "source": [
        "display(df.head(1))"
      ],
      "metadata": {
        "id": "bDJFlEg_ipqh"
      },
      "execution_count": null,
      "outputs": []
    },
    {
      "cell_type": "code",
      "source": [
        "def Survived(Pclass=1,Sex=0,Age=25):\n",
        "  x=np.array([Pclass,Sex,Age]).reshape(1,3)\n",
        "  print( model.predict(x))"
      ],
      "metadata": {
        "id": "jdZagyVZ7jaA"
      },
      "execution_count": null,
      "outputs": []
    },
    {
      "cell_type": "code",
      "source": [
        "# Define the prediction function\n",
        "def predict_price(airline, source_city, departure_time, arrival_time, destination_city, days_left, flight_class):\n",
        "    x = np.array([airline, source_city, departure_time, arrival_time, destination_city, days_left, flight_class]).reshape(1, 7)\n",
        "    print(model.predict(x))"
      ],
      "metadata": {
        "id": "K_tJZN0q7qpn"
      },
      "execution_count": null,
      "outputs": []
    },
    {
      "cell_type": "code",
      "source": [
        "predict_price(airline='SpiceJet', source_city='Delhi', departure_time='Evening', arrival_time='Night', destination_city='Mumbai', days_left= 1, flight_class='Economy' )"
      ],
      "metadata": {
        "id": "IU0tbKCc8i8_"
      },
      "execution_count": null,
      "outputs": []
    },
    {
      "cell_type": "code",
      "source": [
        "# Define the prediction function\n",
        "def predict_price(airline, source_city, departure_time, arrival_time, destination_city, days_left, flight_class):\n",
        "    x = np.array([airline, source_city, departure_time, arrival_time, destination_city, days_left, flight_class]).reshape(1, 7)\n",
        "    print(model.predict(x))"
      ],
      "metadata": {
        "id": "z59kTf2D-mEs"
      },
      "execution_count": null,
      "outputs": []
    },
    {
      "cell_type": "code",
      "source": [
        "predict_price(airline='SpiceJet', source_city='Delhi', departure_time='Evening', arrival_time='Night', destination_city='Mumbai', days_left= 1, flight_class='Economy' )"
      ],
      "metadata": {
        "id": "Ai506qCt-ph0"
      },
      "execution_count": null,
      "outputs": []
    },
    {
      "cell_type": "code",
      "source": [
        "df"
      ],
      "metadata": {
        "id": "c7zzY_d38o_w"
      },
      "execution_count": null,
      "outputs": []
    }
  ]
}