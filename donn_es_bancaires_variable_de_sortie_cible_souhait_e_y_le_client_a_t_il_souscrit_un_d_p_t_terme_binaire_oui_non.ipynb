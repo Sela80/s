{
  "nbformat": 4,
  "nbformat_minor": 0,
  "metadata": {
    "colab": {
      "private_outputs": true,
      "provenance": [],
      "authorship_tag": "ABX9TyOewoeb7DqvJ0KP0PVkPGMw",
      "include_colab_link": true
    },
    "kernelspec": {
      "name": "python3",
      "display_name": "Python 3"
    },
    "language_info": {
      "name": "python"
    }
  },
  "cells": [
    {
      "cell_type": "markdown",
      "metadata": {
        "id": "view-in-github",
        "colab_type": "text"
      },
      "source": [
        "<a href=\"https://colab.research.google.com/github/Sela80/s/blob/main/donn_es_bancaires_variable_de_sortie_cible_souhait_e_y_le_client_a_t_il_souscrit_un_d_p_t_terme_binaire_oui_non.ipynb\" target=\"_parent\"><img src=\"https://colab.research.google.com/assets/colab-badge.svg\" alt=\"Open In Colab\"/></a>"
      ]
    },
    {
      "cell_type": "code",
      "execution_count": null,
      "metadata": {
        "id": "fIa7VpBkwnqe"
      },
      "outputs": [],
      "source": [
        "# 1. Import des librairies & Chargement du dataset\n",
        "import pandas as pd\n",
        "import seaborn as sns\n",
        "import matplotlib.pyplot as plt\n",
        "import joblib\n",
        "from sklearn.model_selection import train_test_split, StratifiedKFold, cross_val_score\n",
        "from sklearn.preprocessing import OneHotEncoder, StandardScaler\n",
        "from sklearn.compose import ColumnTransformer # Import ColumnTransformer\n",
        "from sklearn.pipeline import Pipeline\n",
        "from sklearn.metrics import accuracy_score, roc_auc_score, classification_report, confusion_matrix, RocCurveDisplay\n",
        "from sklearn.linear_model import LogisticRegression\n",
        "from sklearn.ensemble import RandomForestClassifier\n",
        "import ipywidgets as widgets\n",
        "from IPython.display import display"
      ]
    },
    {
      "cell_type": "code",
      "source": [
        "!pip install opendatasets --upgrade --quiet"
      ],
      "metadata": {
        "id": "L_ewgbG8c5zl"
      },
      "execution_count": null,
      "outputs": []
    },
    {
      "cell_type": "code",
      "source": [
        "# Importation d'une Base de données Depuis Kaggle\n",
        "import opendatasets as od\n",
        "od.download('https://www.kaggle.com/datasets/prakharrathi25/banking-dataset-marketing-targets')"
      ],
      "metadata": {
        "id": "AtuGYK_J5DVU"
      },
      "execution_count": null,
      "outputs": []
    },
    {
      "cell_type": "code",
      "source": [
        "# Chargement de notre Dataset\n",
        "df=pd.read_csv('/content/banking-dataset-marketing-targets/test.csv', sep=';')"
      ],
      "metadata": {
        "id": "N7eyUxFM6POH"
      },
      "execution_count": null,
      "outputs": []
    },
    {
      "cell_type": "code",
      "source": [
        "#df[df['y'] == 'yes']"
      ],
      "metadata": {
        "id": "doPg_xb3Tgyt"
      },
      "execution_count": null,
      "outputs": []
    },
    {
      "cell_type": "code",
      "source": [
        "df.head()\n"
      ],
      "metadata": {
        "id": "1otCQ97-6yj0"
      },
      "execution_count": null,
      "outputs": []
    },
    {
      "cell_type": "code",
      "source": [
        "df.info()"
      ],
      "metadata": {
        "id": "R6ePnoxz7J1U"
      },
      "execution_count": null,
      "outputs": []
    },
    {
      "cell_type": "code",
      "source": [
        "df.isna().sum()"
      ],
      "metadata": {
        "id": "o5oiSd6LmAvU"
      },
      "execution_count": null,
      "outputs": []
    },
    {
      "cell_type": "code",
      "source": [
        "df.columns"
      ],
      "metadata": {
        "id": "3tgb0q_ceRTT"
      },
      "execution_count": null,
      "outputs": []
    },
    {
      "cell_type": "code",
      "source": [
        "df.duplicated().sum()"
      ],
      "metadata": {
        "id": "BZdm9SdhliDD"
      },
      "execution_count": null,
      "outputs": []
    },
    {
      "cell_type": "code",
      "source": [
        "df.describe().transpose()"
      ],
      "metadata": {
        "id": "7i_IveWwlmRr"
      },
      "execution_count": null,
      "outputs": []
    },
    {
      "cell_type": "code",
      "source": [
        "num_cols = df.select_dtypes(include=['int64', 'float64']).columns\n",
        "cat_cols = df.select_dtypes(include=['object']).columns"
      ],
      "metadata": {
        "id": "Of2isSd0LU9d"
      },
      "execution_count": null,
      "outputs": []
    },
    {
      "cell_type": "code",
      "source": [
        "# 5) Numeric correlations heatmap (top features)\n",
        "corr = df[num_cols].corr()\n",
        "plt.figure(figsize=(8,6))\n",
        "sns.heatmap(corr, annot=False, cmap='coolwarm', center=0)\n",
        "plt.title('Corrélations entre variables numériques')\n",
        "plt.tight_layout()\n",
        "plt.show()"
      ],
      "metadata": {
        "id": "Pt8MXI-YUM6V"
      },
      "execution_count": null,
      "outputs": []
    },
    {
      "cell_type": "markdown",
      "source": [
        "### Commentaire sur la matrice de corrélation numérique\n",
        "\n",
        "La heatmap des corrélations entre les variables numériques montre les relations linéaires entre ces variables.\n",
        "\n",
        "*   Les valeurs proches de 1 ou -1 indiquent une forte corrélation positive ou négative, respectivement.\n",
        "*   Les valeurs proches de 0 indiquent une faible corrélation.\n",
        "\n",
        "D'après cette heatmap :\n",
        "\n",
        "*   Il n'y a pas de corrélations très fortes (proches de 1 ou -1) entre les paires de variables numériques.\n",
        "*   Certaines corrélations modérées peuvent être observées, comme entre `pdays` et `previous` (corrélation positive, ce qui est attendu car `previous` compte le nombre de contacts avant `pdays`), et entre `day` et `campaign` (une légère corrélation positive).\n",
        "*   La plupart des autres variables numériques montrent de faibles corrélations entre elles.\n",
        "\n",
        "Cela suggère qu'il n'y a pas de problèmes majeurs de multicolinéarité entre les variables numériques dans ce dataset, ce qui est une bonne chose pour les modèles de régression linéaire ou logistique."
      ],
      "metadata": {
        "id": "VM3Cm7I9zXz4"
      }
    },
    {
      "cell_type": "code",
      "source": [
        "# Plot target distribution\n",
        "sns.countplot(x='y', data=df)\n",
        "plt.title('Target distribution: y')\n",
        "plt.xlabel('Subscribed to term deposit')\n",
        "plt.ylabel('Count')\n",
        "plt.show()\n"
      ],
      "metadata": {
        "id": "CDo28PaxK3Yu"
      },
      "execution_count": null,
      "outputs": []
    },
    {
      "cell_type": "markdown",
      "source": [
        "### Commentaire sur la distribution de la variable cible ('y')\n",
        "\n",
        "Le graphique de distribution de la variable cible 'y' montre le nombre d'observations pour chaque catégorie : 'no' (n'ayant pas souscrit au dépôt à terme) et 'yes' (ayant souscrit au dépôt à terme).\n",
        "\n",
        "D'après ce graphique, on observe une **forte disparité** entre les deux classes :\n",
        "\n",
        "*   La grande majorité des clients n'ont **pas** souscrit au dépôt à terme ('no').\n",
        "*   Un nombre beaucoup plus faible de clients ont **souscrit** au dépôt à terme ('yes').\n",
        "\n"
      ],
      "metadata": {
        "id": "sNrcotiM03VX"
      }
    },
    {
      "cell_type": "code",
      "source": [
        "for col in cat_cols:\n",
        "    plt.figure(figsize=(10, 6))\n",
        "    sns.countplot(x=col, hue='y', data=df)\n",
        "    plt.title(f'Distribution of {col} by Target (y)')\n",
        "    plt.xlabel(col)\n",
        "    plt.ylabel('Count')\n",
        "    plt.xticks(rotation=45, ha='right')\n",
        "    plt.tight_layout()\n",
        "    plt.show()"
      ],
      "metadata": {
        "id": "bY_GMS8X1KUv"
      },
      "execution_count": null,
      "outputs": []
    },
    {
      "cell_type": "markdown",
      "source": [
        "### Commentaire et conclusion sur les distributions des variables catégorielles par cible ('y')\n",
        "\n",
        "Les graphiques de distribution des variables catégorielles par rapport à la variable cible 'y' (souscription à un dépôt à terme) révèlent des patterns intéressants sur les caractéristiques des clients qui ont tendance à souscrire.\n",
        "\n",
        "En examinant les différents graphiques :\n",
        "\n",
        "*   **Job:** Certains métiers comme \"management\", \"blue-collar\", et \"technician\" ont un grand nombre de clients, mais la proportion de clients ayant souscrit varie selon le métier. Les \"students\" et les \"retired\" semblent avoir une proportion plus élevée de souscription par rapport à leur nombre total dans l'échantillon.\n",
        "*   **Marital:** Les clients \"married\" sont les plus nombreux, mais la proportion de souscription semble un peu plus élevée chez les \"single\" et les \"divorced\".\n",
        "*   **Education:** Les clients avec une éducation \"secondary\" et \"tertiary\" sont les plus représentés. La proportion de souscription semble augmenter avec le niveau d'éducation, bien que les clients avec une éducation \"unknown\" aient aussi une proportion de souscription notable.\n",
        "*   **Default:** La grande majorité des clients n'ont pas de défaut de crédit ('no'). La proportion de souscription est très faible pour les clients ayant un défaut ('yes').\n",
        "*   **Housing:** Les clients ayant un prêt immobilier ('yes') et ceux n'en ayant pas ('no') sont assez nombreux. La proportion de souscription semble légèrement plus élevée chez les clients n'ayant pas de prêt immobilier.\n",
        "*   **Loan:** Similaire à \"housing\", la plupart des clients n'ont pas de prêt personnel ('no'). La proportion de souscription est plus élevée chez les clients n'ayant pas de prêt personnel.\n",
        "*   **Contact:** La méthode de contact \"cellular\" est la plus fréquente. Les contacts via \"cellular\" et \"telephone\" ont une proportion de souscription plus élevée que les contacts \"unknown\".\n",
        "*   **Month:** Le mois de mai a le plus grand nombre de contacts, mais la proportion de souscription est relativement faible en mai par rapport à d'autres mois comme octobre, mars, décembre et septembre, qui, bien qu'ayant moins de contacts, montrent une proportion de souscription plus élevée.\n",
        "*   **Poutcome:** Le résultat de la campagne précédente ('poutcome') a une forte influence. Les clients dont l'issue précédente était un succès ('success') ont une probabilité de souscription bien plus élevée lors de cette campagne.\n",
        "\n",
        "**Conclusion sur les variables catégorielles:**\n",
        "\n",
        "Plusieurs variables catégorielles montrent une distribution différente de la variable cible 'y', suggérant qu'elles sont informatives pour prédire la souscription à un dépôt à terme. `poutcome`, `contact`, `month`, `job`, `marital`, `education`, `housing`, et `loan` semblent être des prédicteurs potentiellement importants. La variable `default` semble moins discriminante car la grande majorité des clients n'ont pas de défaut et la souscription est rare pour ceux qui en ont un.\n",
        "\n",
        "Ces visualisations confirment l'importance de ces variables catégorielles dans le modèle de prédiction et justifient l'utilisation de techniques de prétraitement comme l'One-Hot Encoding pour les inclure dans les modèles."
      ],
      "metadata": {
        "id": "P7EUqm_a3nzT"
      }
    },
    {
      "cell_type": "code",
      "source": [
        "for col in num_cols:\n",
        "    plt.figure(figsize=(10, 6))\n",
        "    sns.boxplot(x='y', y=col, data=df)\n",
        "    plt.title(f'Distribution of {col} by Target (y)')\n",
        "    plt.xlabel('Subscribed to term deposit')\n",
        "    plt.ylabel(col)\n",
        "    plt.tight_layout()\n",
        "    plt.show()"
      ],
      "metadata": {
        "id": "xztUjqrp3r4M"
      },
      "execution_count": null,
      "outputs": []
    },
    {
      "cell_type": "markdown",
      "source": [
        "### Commentaire et conclusion sur les distributions des variables numériques par cible ('y')\n",
        "\n",
        "Les boxplots des variables numériques par rapport à la variable cible 'y' (souscription à un dépôt à terme) nous donnent un aperçu des différences de distribution de ces variables entre les clients qui ont souscrit et ceux qui ne l'ont pas fait.\n",
        "\n",
        "En examinant les différents boxplots :\n",
        "\n",
        "*   **age:** La distribution de l'âge semble assez similaire pour les deux groupes, bien qu'il y ait quelques valeurs extrêmes d'âges plus élevés dans le groupe \"yes\".\n",
        "*   **balance:** La distribution du solde (`balance`) montre une grande variabilité, avec de nombreuses valeurs extrêmes. Bien que la médiane soit proche pour les deux groupes, il semble y avoir quelques soldes plus élevés dans le groupe \"yes\". Cependant, le chevauchement des distributions est important.\n",
        "*   **day:** La distribution du jour du mois (`day`) où le contact a été effectué semble très similaire pour les deux groupes.\n",
        "*   **duration:** La **durée du dernier contact** (`duration`) montre une différence notable. Les clients qui ont souscrit ('yes') ont tendance à avoir eu des contacts de plus longue durée que ceux qui n'ont pas souscrit ('no'). La médiane et le 3ème quartile sont significativement plus élevés pour le groupe \"yes\". Cette variable semble être un prédicteur important. Il est important de noter que cette variable n'est connue qu'APRÈS que le contact ait été effectué, ce qui peut la rendre moins utile pour la prédiction AVANT le contact.\n",
        "*   **campaign:** Le nombre de contacts effectués pendant cette campagne (`campaign`) semble légèrement plus élevé pour le groupe \"no\", avec de nombreuses valeurs extrêmes. Les clients qui souscrivent ont tendance à avoir eu moins de contacts pendant la campagne actuelle.\n",
        "*   **pdays:** Le nombre de jours depuis le dernier contact de la campagne précédente (`pdays`) montre une différence. Pour les clients qui n'ont pas souscrit, la majorité ont une valeur de -1 (pas de contact précédent). Pour ceux qui ont souscrit, il y a une distribution de valeurs positives, indiquant un contact récent lors d'une campagne précédente. Cette variable semble informative.\n",
        "*   **previous:** Le nombre de contacts effectués avant cette campagne (`previous`) montre que les clients qui ont souscrit ont tendance à avoir eu plus de contacts précédents réussis (liés à `poutcome`).\n",
        "\n",
        "**Conclusion sur les variables numériques:**\n",
        "\n",
        "Parmi les variables numériques, la **durée du dernier contact (`duration`)** et le nombre de **jours depuis le dernier contact de la campagne précédente (`pdays`)** semblent être les prédicteurs les plus discriminants pour la souscription à un dépôt à terme. La variable `campaign` montre également une certaine différence. Les variables `age`, `balance`, et `day` semblent avoir une influence moins marquée sur la souscription, bien que `balance` présente des valeurs extrêmes potentiellement intéressantes.\n",
        "\n",
        "Il est crucial de considérer l'interprétation de la variable `duration` : bien qu'elle soit très prédictive, elle est une conséquence du contact, pas une caractéristique préalable du client. Son utilisation dans un modèle de prédiction pour cibler les clients *avant* le contact doit être faite avec prudence. Cependant, elle est très utile pour évaluer le succès d'une campagne après coup. Les autres variables numériques (`age`, `balance`, `day`, `campaign`, `pdays`, `previous`) représentent des caractéristiques du client ou de l'historique des campagnes qui sont disponibles avant un nouveau contact."
      ],
      "metadata": {
        "id": "84G0BMaK4-BV"
      }
    },
    {
      "cell_type": "code",
      "source": [
        "# Définition des colonnes\n",
        "cat_cols = [\"job\", \"marital\", \"education\", \"default\", \"housing\", \"loan\",\n",
        "            \"contact\", \"month\", \"poutcome\"]\n",
        "num_cols = [\"age\", \"balance\", \"day\", \"duration\", \"campaign\", \"pdays\", \"previous\"]\n"
      ],
      "metadata": {
        "id": "bsgBipCEHfQS"
      },
      "execution_count": null,
      "outputs": []
    },
    {
      "cell_type": "code",
      "source": [
        "\n",
        "X = df.drop(columns=[\"y\"])\n",
        "y = (df[\"y\"] == \"yes\").astype(int)\n",
        "\n",
        "X_train, X_test, y_train, y_test = train_test_split(\n",
        "    X, y, test_size=0.2, random_state=42, stratify=y\n",
        ")"
      ],
      "metadata": {
        "id": "AxX_pe49Hj2B"
      },
      "execution_count": null,
      "outputs": []
    },
    {
      "cell_type": "code",
      "source": [
        "# 3) Prétraitement\n",
        "# ============================\n",
        "preprocess = ColumnTransformer(\n",
        "    transformers=[\n",
        "        (\"cat\", OneHotEncoder(handle_unknown=\"ignore\", sparse_output=False), cat_cols),\n",
        "        (\"num\", StandardScaler(), num_cols),\n",
        "    ]\n",
        ")\n"
      ],
      "metadata": {
        "id": "_Bufr_6QHoEJ"
      },
      "execution_count": null,
      "outputs": []
    },
    {
      "cell_type": "code",
      "source": [
        "log_reg = Pipeline(steps=[\n",
        "    ('prep', preprocess),\n",
        "    ('clf', LogisticRegression(max_iter=1000, class_weight='balanced'))\n",
        "])\n",
        "\n",
        "rf = Pipeline(steps=[\n",
        "    ('prep', preprocess),\n",
        "    ('clf', RandomForestClassifier(n_estimators=300, class_weight='balanced_subsample', random_state=42))\n",
        "])"
      ],
      "metadata": {
        "id": "5kFUYfgZIAVp"
      },
      "execution_count": null,
      "outputs": []
    },
    {
      "cell_type": "code",
      "source": [
        "\n",
        "# Validation croisée\n",
        "cv = StratifiedKFold(n_splits=5, shuffle=True, random_state=42)\n",
        "log_auc = cross_val_score(log_reg, X_train, y_train, cv=cv, scoring='roc_auc')\n",
        "rf_auc = cross_val_score(rf, X_train, y_train, cv=cv, scoring='roc_auc')\n",
        "\n",
        "print(f'Logistic Regression CV AUC: {log_auc.mean():.4f} ± {log_auc.std():.4f}')\n",
        "print(f'Random Forest CV AUC: {rf_auc.mean():.4f} ± {rf_auc.std():.4f}')\n"
      ],
      "metadata": {
        "id": "_5WQ0In-IL7Z"
      },
      "execution_count": null,
      "outputs": []
    },
    {
      "cell_type": "markdown",
      "source": [
        "### Commentaire sur les Résultats de Validation Croisée\n",
        "\n",
        "Les résultats de la validation croisée (avec 5 folds stratifiés) pour les deux modèles sont les suivants, basés sur la métrique AUC (Area Under the ROC Curve) :\n",
        "\n",
        "*   **Logistic Regression CV AUC:** 0.8939 ± 0.0199\n",
        "*   **Random Forest CV AUC:** 0.9076 ± 0.0139\n",
        "\n",
        "**Interprétation:**\n",
        "\n",
        "*   L'**AUC moyenne** sur les 5 folds est légèrement plus élevée pour le modèle **Random Forest** (0.9076) par rapport à la **Logistic Regression** (0.8939). Cela suggère que, en moyenne sur différents sous-ensembles des données d'entraînement, le modèle Random Forest a une meilleure capacité globale à distinguer les clients qui souscrivent de ceux qui ne souscrivent pas.\n",
        "*   L'**écart-type** de l'AUC est légèrement plus faible pour le modèle **Random Forest** (0.0139) que pour la **Logistic Regression** (0.0199). Un écart-type plus faible indique que la performance du modèle est plus stable à travers les différents folds de la validation croisée. Cela suggère que le modèle Random Forest est un peu plus robuste et moins sensible aux variations dans les données d'entraînement par rapport à la régression logistique.\n",
        "\n",
        "**Conclusion de la Validation Croisée:**\n",
        "\n",
        "Les résultats de la validation croisée suggèrent que le modèle de **Random Forest** offre une performance légèrement meilleure et plus stable en termes d'AUC sur l'ensemble d'entraînement. Cela renforce l'idée que la forêt aléatoire pourrait être un modèle légèrement plus performant pour ce problème de classification, en particulier si l'on considère l'AUC comme métrique principale d'évaluation. Cependant, les deux modèles montrent de bonnes performances avec des AUC supérieures à 0.89, ce qui indique qu'ils sont capables d'apprendre des patterns pertinents dans les données."
      ],
      "metadata": {
        "id": "eU8LN0La6cqp"
      }
    },
    {
      "cell_type": "code",
      "source": [
        "\n",
        "# Fit final\n",
        "log_reg.fit(X_train, y_train)\n",
        "rf.fit(X_train, y_train)\n"
      ],
      "metadata": {
        "id": "pwXzg5U7IxPo"
      },
      "execution_count": null,
      "outputs": []
    },
    {
      "cell_type": "code",
      "source": [
        "# Évaluation\n",
        "def print_metrics(name, model, X, y):\n",
        "    proba = model.predict_proba(X)[:,1]\n",
        "    pred = (proba >= 0.5).astype(int)\n",
        "    acc = accuracy_score(y, pred)\n",
        "    auc = roc_auc_score(y, proba)\n",
        "    print(f\"\\n{name} - Accuracy: {acc:.3f}, AUC: {auc:.3f}\")\n",
        "    print(classification_report(y, pred, digits=3))\n",
        "    print(\"Confusion matrix:\\n\", confusion_matrix(y, pred))\n",
        "\n",
        "print_metrics(\"Logistic Regression\", log_reg, X_test, y_test)\n",
        "print_metrics(\"Random Forest\", rf, X_test, y_test)\n"
      ],
      "metadata": {
        "id": "yaFz384dI4Lw"
      },
      "execution_count": null,
      "outputs": []
    },
    {
      "cell_type": "markdown",
      "source": [
        "### Commentaire sur les résultats de l'Évaluation\n",
        "\n",
        "Les métriques d'évaluation sur l'ensemble de test fournissent une image plus complète des performances de chaque modèle dans un scénario réel.\n",
        "\n",
        "*   **Logistic Regression:**\n",
        "    *   Accuracy (Précision globale): 0.823. Le modèle prédit correctement 82.3% des cas.\n",
        "    *   AUC: 0.891. Bonne capacité à distinguer les classes.\n",
        "    *   Classification Report:\n",
        "        *   Precision (Classe 'yes', 1): 0.372. Sur toutes les fois où le modèle a prédit 'yes', il avait raison dans 37.2% des cas.\n",
        "        *   Recall (Classe 'yes', 1): 0.779. Le modèle a identifié 77.9% de tous les clients qui ont réellement souscrit ('yes'). C'est un bon rappel, ce qui signifie qu'il manque peu de vrais positifs.\n",
        "        *   F1-score (Classe 'yes', 1): 0.503. Moyenne harmonique de la précision et du rappel pour la classe positive.\n",
        "    *   Confusion Matrix:\n",
        "        *   True Negatives (TN): 664 (Correctly predicted 'no')\n",
        "        *   False Positives (FP): 137 (Incorrectly predicted 'yes', they were 'no') - Erreur de type I\n",
        "        *   False Negatives (FN): 23 (Incorrectly predicted 'no', they were 'yes') - Erreur de type II\n",
        "        *   True Positives (TP): 81 (Correctly predicted 'yes')\n",
        "\n",
        "*   **Random Forest:**\n",
        "    *   Accuracy: 0.891. Précision globale plus élevée que la régression logistique.\n",
        "    *   AUC: 0.912. Légèrement meilleure capacité à distinguer les classes que la régression logistique.\n",
        "    *   Classification Report:\n",
        "        *   Precision (Classe 'yes', 1): 0.581. Sur toutes les fois où le modèle a prédit 'yes', il avait raison dans 58.1% des cas. Meilleure précision que la régression logistique.\n",
        "        *   Recall (Classe 'yes', 1): 0.173. Le modèle a identifié seulement 17.3% de tous les clients qui ont réellement souscrit ('yes'). C'est un rappel très faible, ce qui signifie qu'il manque beaucoup de vrais positifs (il génère beaucoup de faux négatifs).\n",
        "        *   F1-score (Classe 'yes', 1): 0.267. F1-score beaucoup plus faible que la régression logistique pour la classe positive.\n",
        "    *   Confusion Matrix:\n",
        "        *   TN: 788\n",
        "        *   FP: 13 (Beaucoup moins de faux positifs que la régression logistique)\n",
        "        *   FN: 86 (Beaucoup plus de faux négatifs que la régression logistique)\n",
        "        *   TP: 18\n",
        "\n",
        "**Conclusion de l'Évaluation:**\n",
        "\n",
        "Les résultats sur l'ensemble de test confirment que la **Random Forest** a une meilleure performance globale en termes d'Accuracy et d'AUC. Cependant, pour le problème spécifique de prédire les souscriptions (la classe minoritaire 'yes'), la **Logistic Regression**, malgré une Accuracy et une AUC légèrement inférieures, démontre un **rappel (Recall) bien supérieur**.\n",
        "\n",
        "*   Si l'objectif est de maximiser le nombre de clients potentiels identifiés (même au prix de contacter des personnes qui ne souscriront pas), la **régression logistique** est plus adaptée en raison de son **rappel élevé** (77.9% des vrais positifs capturés). Elle minimise les erreurs de Type II (faux négatifs).\n",
        "*   Si l'objectif est de minimiser les contacts inutiles et de s'assurer que les clients contactés ont une forte probabilité de souscrire, la **forêt aléatoire** est préférable en raison de sa **précision élevée** (58.1% des prédictions positives sont correctes). Elle minimise les erreurs de Type I (faux positifs).\n",
        "\n",
        "Le choix final du modèle dépendra des coûts associés aux faux positifs (contacter un client qui ne souscrit pas) et aux faux négatifs (ne pas contacter un client qui aurait souscrit). Dans un contexte marketing où l'identification de potentiels clients est primordiale, un rappel élevé est souvent plus souhaitable, suggérant que la régression logistique pourrait être plus pertinente malgré un plus grand nombre de faux positifs. Cependant, si les coûts de contact sont élevés, la forêt aléatoire pourrait être préférée."
      ],
      "metadata": {
        "id": "AMGuYJ-B7-kn"
      }
    },
    {
      "cell_type": "code",
      "source": [
        "\n",
        "# Courbes ROC\n",
        "RocCurveDisplay.from_estimator(log_reg, X_test, y_test, name='LogReg')\n",
        "RocCurveDisplay.from_estimator(rf, X_test, y_test, name='RandomForest')\n",
        "plt.title('ROC curves on Test')\n",
        "plt.show()\n"
      ],
      "metadata": {
        "id": "TWHYboycI_VX"
      },
      "execution_count": null,
      "outputs": []
    },
    {
      "cell_type": "code",
      "source": [
        "# 5) Sauvegarde modèles\n",
        "# ============================\n",
        "joblib.dump(log_reg, 'model_logreg_bank.joblib')\n",
        "joblib.dump(rf, 'model_rf_bank.joblib')\n",
        "print(\"Modèles sauvegardés.\")\n"
      ],
      "metadata": {
        "id": "iT2HK6l8JD9f"
      },
      "execution_count": null,
      "outputs": []
    },
    {
      "cell_type": "code",
      "source": [
        "\n",
        "# 6) Widget interactif\n",
        "# ============================\n",
        "options = {col: sorted(df[col].dropna().unique().astype(str)) for col in cat_cols}\n",
        "\n",
        "# Widgets numériques\n",
        "w_age = widgets.BoundedIntText(value=35, min=17, max=100, description='age')\n",
        "w_balance = widgets.IntText(value=0, description='balance')\n",
        "w_day = widgets.BoundedIntText(value=5, min=1, max=31, description='day')\n",
        "w_duration = widgets.IntText(value=120, description='duration')\n",
        "w_campaign = widgets.BoundedIntText(value=1, min=1, max=100, description='campaign')\n",
        "w_pdays = widgets.IntText(value=-1, description='pdays')\n",
        "w_previous = widgets.BoundedIntText(value=0, min=0, max=100, description='previous')\n",
        "\n",
        "# Widgets catégoriels\n",
        "w_job = widgets.Dropdown(options=options['job'], description='job')\n",
        "w_marital = widgets.Dropdown(options=options['marital'], description='marital')\n",
        "w_education = widgets.Dropdown(options=options['education'], description='education')\n",
        "w_default = widgets.Dropdown(options=options['default'], description='default')\n",
        "w_housing = widgets.Dropdown(options=options['housing'], description='housing')\n",
        "w_loan = widgets.Dropdown(options=options['loan'], description='loan')\n",
        "w_contact = widgets.Dropdown(options=options['contact'], description='contact')\n",
        "w_month = widgets.Dropdown(options=options['month'], description='month')\n",
        "w_poutcome = widgets.Dropdown(options=options['poutcome'], description='poutcome')\n",
        "\n",
        "btn = widgets.Button(description='Prédire', button_style='primary')\n",
        "out = widgets.Output()\n",
        "\n",
        "def on_click_predict(b):\n",
        "    out.clear_output()\n",
        "    row = {\n",
        "        'age': w_age.value, 'job': w_job.value, 'marital': w_marital.value,\n",
        "        'education': w_education.value, 'default': w_default.value,\n",
        "        'balance': w_balance.value, 'housing': w_housing.value, 'loan': w_loan.value,\n",
        "        'contact': w_contact.value, 'day': w_day.value, 'month': w_month.value,\n",
        "        'duration': w_duration.value, 'campaign': w_campaign.value,\n",
        "        'pdays': w_pdays.value, 'previous': w_previous.value, 'poutcome': w_poutcome.value\n",
        "    }\n",
        "    X_single = pd.DataFrame([row])\n",
        "    try:\n",
        "        proba = log_reg.predict_proba(X_single)[:,1][0]\n",
        "        pred = log_reg.predict(X_single)[0]\n",
        "        label = \"oui\" if pred == 1 else \"non\"\n",
        "        with out:\n",
        "            print(f\"Résultat: {label}\")\n",
        "            print(f\"Probabilité (oui): {proba*100:.2f} %\")\n",
        "    except Exception as e:\n",
        "        with out:\n",
        "            print(\"Erreur pendant la prédiction:\", e)\n",
        "\n",
        "btn.on_click(on_click_predict)\n",
        "\n",
        "ui = widgets.HBox([\n",
        "    widgets.VBox([w_age, w_balance, w_day, w_duration, w_campaign, w_pdays, w_previous]),\n",
        "    widgets.VBox([w_job, w_marital, w_education, w_default, w_housing, w_loan, w_contact, w_month, w_poutcome])\n",
        "])\n",
        "\n",
        "display(widgets.VBox([ui, btn, out]))\n",
        "print(\"Widget prêt. Choisissez des valeurs puis cliquez sur Prédire.\")\n"
      ],
      "metadata": {
        "id": "NLGPOkceG_4S"
      },
      "execution_count": null,
      "outputs": []
    }
  ]
}