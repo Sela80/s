{
  "nbformat": 4,
  "nbformat_minor": 0,
  "metadata": {
    "colab": {
      "private_outputs": true,
      "provenance": [],
      "authorship_tag": "ABX9TyP3JIjovZY5zYYeG7kBJrln",
      "include_colab_link": true
    },
    "kernelspec": {
      "name": "python3",
      "display_name": "Python 3"
    },
    "language_info": {
      "name": "python"
    }
  },
  "cells": [
    {
      "cell_type": "markdown",
      "metadata": {
        "id": "view-in-github",
        "colab_type": "text"
      },
      "source": [
        "<a href=\"https://colab.research.google.com/github/Sela80/s/blob/main/credit_score_classification_using_python.ipynb\" target=\"_parent\"><img src=\"https://colab.research.google.com/assets/colab-badge.svg\" alt=\"Open In Colab\"/></a>"
      ]
    },
    {
      "cell_type": "markdown",
      "source": [
        "1. # Importation des librairies nécessaires"
      ],
      "metadata": {
        "id": "JFp01l_OIb3c"
      }
    },
    {
      "cell_type": "code",
      "execution_count": null,
      "metadata": {
        "id": "JU2gz_bjHifs"
      },
      "outputs": [],
      "source": [
        "import pandas as pd\n",
        "import numpy as np\n",
        "import plotly.express as px\n",
        "import plotly.graph_objects as go\n",
        "import plotly.io as pio\n",
        "pio.templates.default = \"plotly_white\"\n",
        "import matplotlib.pyplot as plt\n",
        "import matplotlib.ticker as ticker\n",
        "import seaborn as sns"
      ]
    },
    {
      "cell_type": "code",
      "source": [
        "# Affichons notre dataset\n",
        "data= pd.read_csv('/content/train.csv')\n"
      ],
      "metadata": {
        "id": "AE0u7HZ7ID51"
      },
      "execution_count": null,
      "outputs": []
    },
    {
      "cell_type": "markdown",
      "source": [
        "# Jetons un coup d'œil aux informations sur les colonnes de l'ensemble de données :\n",
        "\n"
      ],
      "metadata": {
        "id": "deh5KVeRhUNM"
      }
    },
    {
      "cell_type": "code",
      "source": [
        "data.head()"
      ],
      "metadata": {
        "id": "qdv0E8bhhTo-"
      },
      "execution_count": null,
      "outputs": []
    },
    {
      "cell_type": "markdown",
      "source": [
        "2. # Analyse exploratoire du dataset ou Data mining"
      ],
      "metadata": {
        "id": "2QI4k_BQRkCm"
      }
    },
    {
      "cell_type": "code",
      "source": [
        "2.1 # Informations générales sur le dataset\n",
        "data.info()"
      ],
      "metadata": {
        "id": "tG0FZjvvRqOs"
      },
      "execution_count": null,
      "outputs": []
    },
    {
      "cell_type": "code",
      "source": [
        "2.2 # Statistiques descriptives\n",
        "data.describe()"
      ],
      "metadata": {
        "id": "bZg5Cx0WTwuM"
      },
      "execution_count": null,
      "outputs": []
    },
    {
      "cell_type": "code",
      "source": [
        "2.3 # Vérification des valeurs manquantes\n",
        "data.isnull().sum()"
      ],
      "metadata": {
        "id": "WJVx6eDTT9_L"
      },
      "execution_count": null,
      "outputs": []
    },
    {
      "cell_type": "markdown",
      "source": [
        "# Avant d'aller de l'avant, regardons si l'ensemble de données contient ou non des valeurs nulles :\n",
        "\n"
      ],
      "metadata": {
        "id": "X2j2nzbGhv8N"
      }
    },
    {
      "cell_type": "code",
      "source": [
        "2.4 # Vérification des valeurs dupliquées\n",
        "data.duplicated().sum()"
      ],
      "metadata": {
        "id": "m1CSZXtVUC7E"
      },
      "execution_count": null,
      "outputs": []
    },
    {
      "cell_type": "code",
      "source": [
        "2.5 # Vérification des valeurs uniques\n",
        "data.nunique()"
      ],
      "metadata": {
        "id": "1Mof3vgsUF4s"
      },
      "execution_count": null,
      "outputs": []
    },
    {
      "cell_type": "code",
      "source": [
        "2.6 # Vérification des valeurs aberrantes\n",
        "# Create a boxplot for each numeric column\n",
        "for col in data.select_dtypes(include=np.number):\n",
        "  sns.boxplot(x=data[col])\n",
        "  plt.show()\n"
      ],
      "metadata": {
        "id": "G5sGnAP3dxLQ"
      },
      "execution_count": null,
      "outputs": []
    },
    {
      "cell_type": "code",
      "source": [
        "# prompt: gère toutes les valeurs aberrantes dans data\n",
        "\n",
        "import numpy as np\n",
        "# Loop through each numeric column\n",
        "for col in data.select_dtypes(include=np.number):\n",
        "  # Calculate the interquartile range (IQR)\n",
        "  Q1 = data[col].quantile(0.25)\n",
        "  Q3 = data[col].quantile(0.75)\n",
        "  IQR = Q3 - Q1\n",
        "\n",
        "  # Define the lower and upper bounds\n",
        "  lower_bound = Q1 - 1.5 * IQR\n",
        "  upper_bound = Q3 + 1.5 * IQR\n",
        "\n",
        "  # Replace outliers with the bounds\n",
        "  data[col] = data[col].clip(lower=lower_bound, upper=upper_bound)\n"
      ],
      "metadata": {
        "id": "yxdXn5P7LjsN"
      },
      "execution_count": null,
      "outputs": []
    },
    {
      "cell_type": "code",
      "source": [
        "# Selection des colonne numérique\n",
        "numeric_data = data.select_dtypes(include=np.number)\n",
        "numeric_data.head()"
      ],
      "metadata": {
        "id": "ylNfEBiOxME_"
      },
      "execution_count": null,
      "outputs": []
    },
    {
      "cell_type": "code",
      "source": [
        "# prompt: imprimer le graphique de correlation avec numeric_data\n",
        "\n",
        "corr_matrix = numeric_data.corr()\n",
        "\n",
        "fig, ax = plt.subplots(figsize=(17, 10))\n",
        "sns.heatmap(corr_matrix, annot=True, fmt=\".2f\", ax=ax, cmap=\"coolwarm\", square=True)\n",
        "plt.show()\n"
      ],
      "metadata": {
        "id": "GrpO5NIawqT_"
      },
      "execution_count": null,
      "outputs": []
    },
    {
      "cell_type": "markdown",
      "source": [
        "3. # Visualisation des données"
      ],
      "metadata": {
        "id": "aIpXWATZUybk"
      }
    },
    {
      "cell_type": "markdown",
      "source": [
        "# L'ensemble de données ne contient aucune valeur nulle. Comme cet ensemble de données est étiqueté, examinons les valeurs de la colonne Credit_Score :\n",
        "\n"
      ],
      "metadata": {
        "id": "JKp1C2r9iKMG"
      }
    },
    {
      "cell_type": "code",
      "source": [
        "data['Credit_Score'].value_counts()"
      ],
      "metadata": {
        "id": "NH039pPJUhec"
      },
      "execution_count": null,
      "outputs": []
    },
    {
      "cell_type": "markdown",
      "source": [
        "# L'ensemble de données comporte de nombreuses fonctionnalités qui peuvent former un modèle de Machine Learning pour la classification des scores de crédit. Explorons toutes les fonctionnalités une par une."
      ],
      "metadata": {
        "id": "KiT2twwxiXjT"
      }
    },
    {
      "cell_type": "markdown",
      "source": [
        "# Je vais commencer par explorer la fonction profession pour savoir si la profession de la personne affecte les cotes de crédit :"
      ],
      "metadata": {
        "id": "uk-993PHijKL"
      }
    },
    {
      "cell_type": "code",
      "source": [
        "# tableau structurer avec Distribution_by_Profession\n",
        "Distribution_by_Profession = data.groupby('Occupation')['Credit_Score'].value_counts().reset_index(name='Count')\n",
        "df_pivot = Distribution_by_Profession.pivot(index='Occupation', columns='Credit_Score', values='Count')\n",
        "print(df_pivot)\n"
      ],
      "metadata": {
        "id": "MUDUQytKMN41"
      },
      "execution_count": null,
      "outputs": []
    },
    {
      "cell_type": "code",
      "source": [
        "Distribution_by_Profession = data.groupby('Occupation')['Credit_Score'].value_counts().reset_index(name='Count')\n",
        "# Use the 'Occupation' column as x and 'Count' as y\n",
        "fig = px.bar(Distribution_by_Profession, x='Occupation', y='Count', color='Credit_Score')\n",
        "fig.update_layout(title='Distribution of Credit Score by Profession', xaxis_title='Profession', yaxis_title='Count')\n",
        "fig.show()"
      ],
      "metadata": {
        "id": "1NP9zL_cFkNi"
      },
      "execution_count": null,
      "outputs": []
    },
    {
      "cell_type": "markdown",
      "source": [
        "#Il n'y a pas beaucoup de différence dans les cotes de crédit de toutes les professions mentionnées dans les données. Voyons maintenant si le revenu annuel de la personne a un impact ou non sur vos cotes de crédit :"
      ],
      "metadata": {
        "id": "Wjo641yIGQnQ"
      }
    },
    {
      "cell_type": "code",
      "source": [
        "# Distribution de crédits_score en fonctionne Annual_Income   avec express\n",
        "fig = px.histogram(data, x=\"Credit_Score\", y=\"Annual_Income\", color=\"Credit_Score\", marginal=\"rug\", opacity=0.7)\n",
        "fig.update_layout(title='Distribution of Credit Score and Annual Income', xaxis_title='Credit Score', yaxis_title='Annual Income')\n",
        "fig.show()\n"
      ],
      "metadata": {
        "id": "4g1C8eV-Gql8"
      },
      "execution_count": null,
      "outputs": []
    },
    {
      "cell_type": "markdown",
      "source": [
        "#Comme pour le revenu annuel, plus vous gagnez de salaire mensuel, meilleure sera votre cote de crédit. Voyons maintenant si le fait d'avoir plus de comptes bancaires a un impact ou non sur les cotes de crédit :"
      ],
      "metadata": {
        "id": "llDgPFj_Kc1o"
      }
    },
    {
      "cell_type": "code",
      "source": [
        "#Distribution de crédits_score en fonction Num_Bank_Accounts    avec express\n",
        "\n",
        "fig = px.histogram(data, x=\"Credit_Score\", y=\"Num_Bank_Accounts\", color=\"Credit_Score\", marginal=\"rug\", opacity=0.7)\n",
        "fig.update_layout(title='Distribution of Credit Score and Number of Bank Accounts', xaxis_title='Credit Score', yaxis_title='Number of Bank Accounts')\n",
        "fig.show()\n"
      ],
      "metadata": {
        "id": "v4fE6MyUK33z"
      },
      "execution_count": null,
      "outputs": []
    },
    {
      "cell_type": "markdown",
      "source": [
        "#Tenir plus de cinq comptes n’est pas bon pour avoir une bonne cote de crédit. Une personne ne devrait avoir que 2 à 3 comptes bancaires. Avoir plus de comptes bancaires n’a donc pas d’impact positif sur les cotes de crédit. Voyons maintenant l'impact sur les cotes de crédit en fonction du nombre de cartes de crédit que vous possédez :"
      ],
      "metadata": {
        "id": "IVPoWMlROExw"
      }
    },
    {
      "cell_type": "code",
      "source": [
        "Distribution_by_Num_Credit_Card = data.groupby('Num_Credit_Card')['Credit_Score'].value_counts().reset_index(name='Count')\n",
        "fig= px.bar(Distribution_by_Num_Credit_Card, x='Num_Credit_Card', y='Count', color='Credit_Score', barmode='group'\n",
        ")\n",
        "fig.update_layout(title='Distribution of Credit Score by Number of Credit Cards', xaxis_title='Number of Credit Cards', yaxis_title='Count')\n",
        "fig.show()"
      ],
      "metadata": {
        "id": "DsCm0Ww9Oo6y"
      },
      "execution_count": null,
      "outputs": []
    },
    {
      "cell_type": "markdown",
      "source": [
        "#Tout comme le nombre de comptes bancaires, le fait d’avoir plus de cartes de crédit n’aura pas d’impact positif sur vos cotes de crédit. Avoir 3 à 5 cartes de crédit est bon pour votre pointage de crédit. Voyons maintenant l'impact sur les cotes de crédit en fonction du montant d'intérêt moyen que vous payez sur les prêts et les EMI :\n",
        "\n"
      ],
      "metadata": {
        "id": "aNzqHAjuQWqo"
      }
    },
    {
      "cell_type": "code",
      "source": [
        " # distribution Distribution_by_Interest_Rate avec pie\n",
        "\n",
        "Distribution_by_Interest_Rate = data.groupby('Interest_Rate')['Credit_Score'].value_counts().reset_index(name='Count')\n",
        "fig = px.pie(Distribution_by_Interest_Rate, values='Count', names='Credit_Score', title='Distribution of Credit Score by Interest Rate')\n",
        "fig.update_layout(title='Distribution of Credit Score by Interest Rate', xaxis_title='Credit Score', yaxis_title='Count')\n",
        "fig.show()\n"
      ],
      "metadata": {
        "id": "FiRBSHE9T3lZ"
      },
      "execution_count": null,
      "outputs": []
    },
    {
      "cell_type": "markdown",
      "source": [
        "#Si le taux d’intérêt moyen est de 4 à 11 %, la cote de crédit est bonne. Avoir un taux d’intérêt moyen supérieur à 15 % est mauvais pour votre cote de crédit. Voyons maintenant combien de prêts vous pouvez contracter à la fois pour obtenir une bonne cote de crédit :"
      ],
      "metadata": {
        "id": "F1G7vO-rSbpR"
      }
    },
    {
      "cell_type": "code",
      "source": [
        "Distribution_by_Num_of_Loan = data.groupby('Num_of_Loan')['Credit_Score'].value_counts().reset_index(name='Count')\n",
        "df_pivot = Distribution_by_Num_of_Loan.pivot(index='Num_of_Loan', columns='Credit_Score', values='Count')\n",
        "print(df_pivot)"
      ],
      "metadata": {
        "id": "eDrUwo4iSZYK"
      },
      "execution_count": null,
      "outputs": []
    },
    {
      "cell_type": "code",
      "source": [
        "# Distribution de Distribution_by_Num_of_Loan\n",
        "\n",
        "Distribution_by_Num_of_Loan = data.groupby('Num_of_Loan')['Credit_Score'].value_counts().reset_index(name='Count')\n",
        "\n",
        "fig = px.pie(Distribution_by_Num_of_Loan, values='Count', names='Credit_Score', title='Distribution of Credit Score by Number of Loans')\n",
        "fig.update_layout(title='Distribution of Credit Score by Number of Loans')\n",
        "fig.show()\n"
      ],
      "metadata": {
        "id": "iMp83O9oTT22"
      },
      "execution_count": null,
      "outputs": []
    },
    {
      "cell_type": "markdown",
      "source": [
        "#Pour avoir une bonne cote de crédit, vous ne devez pas contracter plus de 1 à 3 prêts à la fois. Avoir plus de trois prêts à la fois aura un impact négatif sur votre cote de crédit. Voyons maintenant si le retard des paiements à la date d'échéance a un impact ou non sur vos cotes de crédit :"
      ],
      "metadata": {
        "id": "4FXJ1texUYNQ"
      }
    },
    {
      "cell_type": "code",
      "source": [
        "Distribution_by_Delay_from_due_date = data.groupby('Delay_from_due_date')['Credit_Score'].value_counts().reset_index(name='Count')\n"
      ],
      "metadata": {
        "id": "hStY7aFFUaNO"
      },
      "execution_count": null,
      "outputs": []
    },
    {
      "cell_type": "code",
      "source": [
        "# Distribution de Distribution_by_Delay_from_due_date avec barplot\n",
        "\n",
        "Distribution_by_Delay_from_due_date = data.groupby('Delay_from_due_date')['Credit_Score'].value_counts().reset_index(name='Count')\n",
        "plt.figure(figsize=(9,11))\n",
        "fig = px.bar(Distribution_by_Delay_from_due_date, x='Delay_from_due_date', y='Count', color='Credit_Score')\n",
        "fig.update_layout(title='Distribution of Credit Score by Delay from Due Date', xaxis_title='Delay from Due Date', yaxis_title='Count')\n",
        "fig.show()\n"
      ],
      "metadata": {
        "id": "yffbfvCqb74k"
      },
      "execution_count": null,
      "outputs": []
    },
    {
      "cell_type": "markdown",
      "source": [
        "#Vous pouvez donc reporter votre paiement par carte de crédit de 5 à 14 jours à compter de la date d'échéance. Le fait de retarder vos paiements de plus de 17 jours à compter de la date d'échéance aura un impact négatif sur votre cote de crédit. Voyons maintenant si le fait de retarder fréquemment les paiements aura un impact sur votre cote de crédit ou non :"
      ],
      "metadata": {
        "id": "OyNR4MKLNttH"
      }
    },
    {
      "cell_type": "code",
      "source": [
        "#Distribution de Distribution_by_Num_of_Delayed_Payment avec px\n",
        "Distribution_by_Num_of_Delayed_Payment = data.groupby('Num_of_Delayed_Payment')['Credit_Score'].value_counts().reset_index(name='count')\n",
        "fig = px.bar(Distribution_by_Num_of_Delayed_Payment, x='Num_of_Delayed_Payment', y='count', color='Credit_Score')\n",
        "fig.update_layout(title='Distribution of Credit Score by Number of Delayed Payments', xaxis_title='Number of Delayed Payments', yaxis_title='Count')\n",
        "fig.show()\n"
      ],
      "metadata": {
        "id": "0-Kp3LwMO83n"
      },
      "execution_count": null,
      "outputs": []
    },
    {
      "cell_type": "markdown",
      "source": [
        "#Ainsi, retarder 4 à 12 paiements par rapport à la date d’échéance n’affectera pas vos cotes de crédit. Mais retarder plus de 12 paiements par rapport à la date d’échéance affectera négativement vos cotes de crédit. Voyons maintenant si avoir plus de dettes affectera ou non les cotes de crédit :"
      ],
      "metadata": {
        "id": "iddoKzj0PrpQ"
      }
    },
    {
      "cell_type": "code",
      "source": [
        "fig = px.box(data,\n",
        "             x=\"Credit_Score\",\n",
        "             y=\"Outstanding_Debt\",\n",
        "             color=\"Credit_Score\",\n",
        "             title=\"Credit Scores Based on Outstanding Debt\",\n",
        "             color_discrete_map={'Poor':'red',\n",
        "                                 'Standard':'yellow',\n",
        "                                 'Good':'green'})\n",
        "fig.update_traces(quartilemethod=\"exclusive\")\n",
        "fig.show()"
      ],
      "metadata": {
        "id": "yg9JcwGzTp8m"
      },
      "execution_count": null,
      "outputs": []
    },
    {
      "cell_type": "markdown",
      "source": [
        "#Une dette impayée de 380 $ à 1 150 $ n’affectera pas vos cotes de crédit. Mais avoir toujours une dette de plus de 1 338 $ aura un impact négatif sur votre cote de crédit. Voyons maintenant si un taux d'utilisation du crédit élevé affectera ou non les cotes de crédit :"
      ],
      "metadata": {
        "id": "Lewxuz48T8oD"
      }
    },
    {
      "cell_type": "code",
      "source": [
        "fig = px.box(data,\n",
        "             x=\"Credit_Score\",\n",
        "             y=\"Credit_Utilization_Ratio\",\n",
        "             color=\"Credit_Score\",\n",
        "             title=\"Credit Scores Based on Credit Utilization Ratio\",\n",
        "             color_discrete_map={'Poor':'red',\n",
        "                                 'Standard':'yellow',\n",
        "                                 'Good':'green'})\n",
        "fig.update_traces(quartilemethod=\"exclusive\")\n",
        "fig.show()"
      ],
      "metadata": {
        "id": "_gDlbro_T_bv"
      },
      "execution_count": null,
      "outputs": []
    },
    {
      "cell_type": "markdown",
      "source": [
        "#Le taux d’utilisation du crédit désigne votre dette totale divisée par votre crédit total disponible.  Selon le graphique ci-dessus, votre taux d'utilisation du crédit n'affecte pas vos cotes de crédit. Voyons maintenant comment l'âge des antécédents de crédit d'une personne affecte les cotes de crédit :\n",
        "\n"
      ],
      "metadata": {
        "id": "5atoDu8_UYVL"
      }
    },
    {
      "cell_type": "code",
      "source": [
        "# distribution  avec Credit_History_Age et credit_score avec px\n",
        "\n",
        "fig = px.histogram(data, x=\"Credit_History_Age\", y=\"Credit_Score\", color=\"Credit_Score\", marginal=\"rug\", opacity=0.7)\n",
        "fig.update_layout(title='Distribution of Credit Score by Credit History Age', xaxis_title='Credit History Age', yaxis_title='Credit Score')\n",
        "fig.show()\n"
      ],
      "metadata": {
        "id": "0274izRbXCt_"
      },
      "execution_count": null,
      "outputs": []
    },
    {
      "cell_type": "markdown",
      "source": [
        "#Ainsi, avoir un long historique de crédit se traduit par de meilleurs scores de crédit. Voyons maintenant combien d'EMI vous pouvez avoir en un mois pour avoir une bonne cote de crédit :\n",
        "\n"
      ],
      "metadata": {
        "id": "M1biIIZFXvfC"
      }
    },
    {
      "cell_type": "code",
      "source": [
        "#distribution avec Total_EMI_per_month et credit_score avec px\n",
        "\n",
        "fig = px.histogram(data, x=\"Total_EMI_per_month\", y=\"Credit_Score\", color=\"Credit_Score\", marginal=\"rug\", opacity=0.7)\n",
        "fig.update_layout(title='Distribution of Credit Score by Total EMI per Month', xaxis_title='Total EMI per Month', yaxis_title='Credit Score')\n",
        "fig.show()\n"
      ],
      "metadata": {
        "id": "sz1k1N6NXCrT"
      },
      "execution_count": null,
      "outputs": []
    },
    {
      "cell_type": "markdown",
      "source": [
        "# Le nombre d’EMI que vous payez en un mois n’affecte pas beaucoup les cotes de crédit. Voyons maintenant si vos investissements mensuels affectent ou non vos cotes de crédit :\n",
        "\n"
      ],
      "metadata": {
        "id": "aV7wZIW1Y7hE"
      }
    },
    {
      "cell_type": "code",
      "source": [
        "#  Distribution avec Amount_invested_monthly et credit_score avec px\n",
        "\n",
        "fig = px.histogram(data, x=\"Credit_Score\", y=\"Amount_invested_monthly\", color=\"Credit_Score\", marginal=\"rug\", opacity=0.7)\n",
        "fig.update_layout(title='Distribution of Credit Score by Amount Invested Monthly', xaxis_title='Credit Score', yaxis_title='Amount Invested Monthly')\n",
        "fig.show()\n"
      ],
      "metadata": {
        "id": "XumGFdtIXCJv"
      },
      "execution_count": null,
      "outputs": []
    },
    {
      "cell_type": "markdown",
      "source": [
        "#Le montant d'argent que vous investissez chaque mois n'a pas beaucoup d'impact sur votre score de crédit. Voyons maintenant si le fait d'avoir un faible montant à la fin du mois affecte ou non votre score de crédit :\n",
        "\n"
      ],
      "metadata": {
        "id": "QXmwEYUVZ6Or"
      }
    },
    {
      "cell_type": "code",
      "source": [
        "# Distribution Monthly_Balance  et credit_score par px\n",
        "\n",
        "fig = px.histogram(data, x=\"Credit_Score\", y=\"Monthly_Balance\", color=\"Credit_Score\", marginal=\"rug\", opacity=0.7)\n",
        "fig.update_layout(title='Distribution of Credit Score by Monthly Balance', xaxis_title='Credit Score', yaxis_title='Monthly Balance')\n",
        "fig.show()\n"
      ],
      "metadata": {
        "id": "E4sXk8jJajUy"
      },
      "execution_count": null,
      "outputs": []
    },
    {
      "cell_type": "markdown",
      "source": [
        "#Ainsi, avoir un solde mensuel élevé sur votre compte à la fin du mois est bon pour votre cote de crédit. Un solde mensuel inférieur à 250 $ est mauvais pour les cotes de crédit.\n",
        "\n"
      ],
      "metadata": {
        "id": "ztmLkp7wb5O-"
      }
    },
    {
      "cell_type": "markdown",
      "source": [
        "# **Modèle de classification des cotes de crédit**"
      ],
      "metadata": {
        "id": "H2yyyNO0b5Mw"
      }
    },
    {
      "cell_type": "markdown",
      "source": [
        "#Une autre caractéristique importante (Credit Mix) de l'ensemble de données est utile pour déterminer les scores de crédit. La fonction Credit Mix indique les types de crédits et de prêts que vous avez contractés.\n",
        "\n",
        "#Comme la colonne Credit_Mix est catégorique, je vais la transformer en fonctionnalité numérique afin que nous puissions l'utiliser pour entraîner un modèle de Machine Learning pour la tâche de classification des scores de crédit"
      ],
      "metadata": {
        "id": "Vm_OMNcDcSUg"
      }
    },
    {
      "cell_type": "code",
      "source": [
        "data[\"Credit_Mix\"] = data[\"Credit_Mix\"].map({\"Standard\": 1,\n",
        "                               \"Good\": 2,\n",
        "                               \"Bad\": 0})"
      ],
      "metadata": {
        "id": "2jfGFn-bcKdL"
      },
      "execution_count": null,
      "outputs": []
    },
    {
      "cell_type": "markdown",
      "source": [
        "#Je vais maintenant diviser les données en fonctionnalités et étiquettes en sélectionnant les fonctionnalités que nous avons trouvées importantes pour notre modèle :"
      ],
      "metadata": {
        "id": "NJzEOEdTclQh"
      }
    },
    {
      "cell_type": "code",
      "source": [
        "from sklearn.model_selection import train_test_split\n",
        "x = np.array(data[[\"Annual_Income\", \"Monthly_Inhand_Salary\",\n",
        "                   \"Num_Bank_Accounts\", \"Num_Credit_Card\",\n",
        "                   \"Interest_Rate\", \"Num_of_Loan\",\n",
        "                   \"Delay_from_due_date\", \"Num_of_Delayed_Payment\",\n",
        "                   \"Credit_Mix\", \"Outstanding_Debt\",\n",
        "                   \"Credit_History_Age\", \"Monthly_Balance\"]])\n",
        "y = np.array(data[[\"Credit_Score\"]])"
      ],
      "metadata": {
        "id": "ldt95Rjyche9"
      },
      "execution_count": null,
      "outputs": []
    },
    {
      "cell_type": "markdown",
      "source": [
        "# Maintenant, divisons les données en ensembles de formation et de test et poursuivons en formant un modèle de classification des scores de crédit :\n",
        "\n"
      ],
      "metadata": {
        "id": "L9K5Q3eDc1Cm"
      }
    },
    {
      "cell_type": "code",
      "source": [
        "# Add a 'fill_value' parameter to the map function to handle missing values\n",
        "data[\"Credit_Mix\"] = data[\"Credit_Mix\"].map({\"Standard\": 1, \"Good\": 2, \"Bad\": 0}, na_action='ignore')\n",
        "\n",
        "# Impute missing values using SimpleImputer\n",
        "import numpy as np\n",
        "from sklearn.impute import SimpleImputer\n",
        "imputer = SimpleImputer(strategy='most_frequent')  # Replace missing values with the most frequent value\n",
        "x = imputer.fit_transform(x)\n",
        "\n",
        "# Split the data into training and testing sets\n",
        "xtrain, xtest, ytrain, ytest = train_test_split(x, y, test_size=0.33, random_state=42)\n",
        "\n",
        "# Train the RandomForestClassifier\n",
        "from sklearn.ensemble import RandomForestClassifier\n",
        "model = RandomForestClassifier()\n",
        "model.fit(xtrain, ytrain)"
      ],
      "metadata": {
        "id": "o4faTridchdM"
      },
      "execution_count": null,
      "outputs": []
    },
    {
      "cell_type": "markdown",
      "source": [
        "#Maintenant, faisons des prédictions à partir de notre modèle en fournissant des entrées à notre modèle en fonction des fonctionnalités que nous avons utilisées pour entraîner le modèle :\n",
        "\n"
      ],
      "metadata": {
        "id": "9DrB_fEgdAqD"
      }
    },
    {
      "cell_type": "code",
      "source": [
        "print(\"Credit Score Prediction : \")\n",
        "a = float(input(\"Annual Income: \"))\n",
        "b = float(input(\"Monthly Inhand Salary: \"))\n",
        "c = float(input(\"Number of Bank Accounts: \"))\n",
        "d = float(input(\"Number of Credit cards: \"))\n",
        "e = float(input(\"Interest rate: \"))\n",
        "f = float(input(\"Number of Loans: \"))\n",
        "g = float(input(\"Average number of days delayed by the person: \"))\n",
        "h = float(input(\"Number of delayed payments: \"))\n",
        "i = int(input(\"Credit Mix (Bad: 0, Standard: 1, Good: 2) : \")) # Cast input to integer\n",
        "j = float(input(\"Outstanding Debt: \"))\n",
        "k = float(input(\"Credit History Age: \"))\n",
        "l = float(input(\"Monthly Balance: \"))\n",
        "\n",
        "# Ensure the 'features' array has the correct number of features (11 in this case)\n",
        "features = np.array([[a, b, c, d, e, f, g, h, i, j, k]])\n",
        "\n",
        "print(\"Predicted Credit Score = \", model.predict(features))"
      ],
      "metadata": {
        "id": "FQ1r7lAzuwWc"
      },
      "execution_count": null,
      "outputs": []
    },
    {
      "cell_type": "markdown",
      "source": [
        "#Voici donc comment vous pouvez utiliser l’apprentissage automatique pour la tâche de classification des scores de crédit à l’aide de Python.\n",
        "\n"
      ],
      "metadata": {
        "id": "y5zICpoZeTtq"
      }
    },
    {
      "cell_type": "markdown",
      "source": [
        "**Résumé**\n",
        "#La classification des clients en fonction de leurs cotes de crédit aide les banques et les sociétés émettrices de cartes de crédit à accorder immédiatement des prêts aux clients présentant une bonne solvabilité. Une personne ayant une bonne cote de crédit obtiendra des prêts auprès de n’importe quelle banque et institution financière. J'espère que vous avez aimé cet article sur la classification des scores de crédit avec l'apprentissage automatique à l'aide de Python. N'hésitez pas à poser des questions précieuses dans la section commentaires ci-dessous.\n",
        "\n"
      ],
      "metadata": {
        "id": "lJRQVRjRea8L"
      }
    }
  ]
}