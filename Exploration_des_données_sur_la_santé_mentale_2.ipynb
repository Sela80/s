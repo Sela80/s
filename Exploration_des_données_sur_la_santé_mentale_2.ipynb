{
  "nbformat": 4,
  "nbformat_minor": 0,
  "metadata": {
    "colab": {
      "private_outputs": true,
      "provenance": [],
      "authorship_tag": "ABX9TyMFThFwXHmQSzr2B5lZhd0C",
      "include_colab_link": true
    },
    "kernelspec": {
      "name": "python3",
      "display_name": "Python 3"
    },
    "language_info": {
      "name": "python"
    }
  },
  "cells": [
    {
      "cell_type": "markdown",
      "metadata": {
        "id": "view-in-github",
        "colab_type": "text"
      },
      "source": [
        "<a href=\"https://colab.research.google.com/github/Sela80/s/blob/main/Exploration_des_donn%C3%A9es_sur_la_sant%C3%A9_mentale_2.ipynb\" target=\"_parent\"><img src=\"https://colab.research.google.com/assets/colab-badge.svg\" alt=\"Open In Colab\"/></a>"
      ]
    },
    {
      "cell_type": "markdown",
      "source": [
        "\n",
        "\n",
        "1.   Importation des librairies nécessaires\n",
        "\n"
      ],
      "metadata": {
        "id": "pcl5qKN2dAsx"
      }
    },
    {
      "cell_type": "code",
      "execution_count": null,
      "metadata": {
        "id": "n_MbbJYkkPgt"
      },
      "outputs": [],
      "source": [
        "import pandas as pd\n",
        "import numpy as np\n",
        "import matplotlib.pyplot as plt\n",
        "import seaborn as sns\n",
        "import warnings\n",
        "warnings.filterwarnings('ignore')\n",
        "import kagglehub\n",
        "import os"
      ]
    },
    {
      "cell_type": "markdown",
      "source": [
        "2.   Importation Dataset"
      ],
      "metadata": {
        "id": "CVSLqB-odLx5"
      }
    },
    {
      "cell_type": "code",
      "source": [
        "path = kagglehub.dataset_download(\"sumansharmadataworld/depression-surveydataset-for-analysis\")\n",
        "\n",
        "for filename in os.listdir(path):\n",
        "    if filename.endswith(\".csv\"):\n",
        "        csv_file_path = os.path.join(path, filename)\n",
        "        break\n",
        "data = pd.read_csv(csv_file_path)"
      ],
      "metadata": {
        "id": "6TrUDt7wkd3Z"
      },
      "execution_count": null,
      "outputs": []
    },
    {
      "cell_type": "markdown",
      "source": [
        "\n",
        "\n",
        "3.   Exploration DATAset\n",
        "\n"
      ],
      "metadata": {
        "id": "LGQ_i-pUdaBg"
      }
    },
    {
      "cell_type": "code",
      "source": [
        "data.head()"
      ],
      "metadata": {
        "id": "_l80JayckiSZ"
      },
      "execution_count": null,
      "outputs": []
    },
    {
      "cell_type": "code",
      "source": [
        "data.info()"
      ],
      "metadata": {
        "id": "ahprdpDaklax"
      },
      "execution_count": null,
      "outputs": []
    },
    {
      "cell_type": "code",
      "source": [
        "data.isnull().sum()\n"
      ],
      "metadata": {
        "id": "gb1lY2HEko2w"
      },
      "execution_count": null,
      "outputs": []
    },
    {
      "cell_type": "markdown",
      "source": [
        "L'ensemble de données contient 2556 lignes et 19 colonnes."
      ],
      "metadata": {
        "id": "Gn70BtG6kv65"
      }
    },
    {
      "cell_type": "code",
      "source": [
        "data['Profession'] = data['Profession'].fillna(data['Profession'].mode()[0])\n",
        "data['Academic Pressure'] = data['Academic Pressure'].fillna(data['Academic Pressure'].median())\n",
        "data['Work Pressure'] = data['Work Pressure'].fillna(data['Work Pressure'].median())\n",
        "data['CGPA'] = data['CGPA'].fillna(data['CGPA'].median())\n",
        "data['Study Satisfaction']= data['Study Satisfaction'].fillna(data['Study Satisfaction'].mean())\n",
        "data['Job Satisfaction'] = data['Job Satisfaction'].fillna(data['Job Satisfaction'].mean())\n",
        "\n",
        "data.isnull().sum()"
      ],
      "metadata": {
        "id": "JASkqT_BspIf"
      },
      "execution_count": null,
      "outputs": []
    },
    {
      "cell_type": "markdown",
      "source": [
        "\n",
        "\n",
        "4. 1 .  Visualisons univarier\n",
        "\n"
      ],
      "metadata": {
        "id": "6Tx-LIt2dr_Q"
      }
    },
    {
      "cell_type": "code",
      "source": [
        "#Distribution by Gender\n",
        "import plotly.express as px\n",
        "\n",
        "gender_counts = data['Gender'].value_counts()\n",
        "\n",
        "fig = px.pie(gender_counts, values=gender_counts.values, names=gender_counts.index, title='Distribution by Gender')\n",
        "fig.show()"
      ],
      "metadata": {
        "id": "UEy0oia6tilm"
      },
      "execution_count": null,
      "outputs": []
    },
    {
      "cell_type": "markdown",
      "source": [
        "**Montre une répartition inégale entre les genres**\n",
        "\n",
        "**La majorité des répondants sont masculins**"
      ],
      "metadata": {
        "id": "icmij35Gvklq"
      }
    },
    {
      "cell_type": "code",
      "source": [
        "#Distribution by Age\n",
        "age_counts = data['Age'].value_counts()\n",
        "\n",
        "fig = px.bar(age_counts,\n",
        "             x=age_counts.index,\n",
        "             y=age_counts.values,\n",
        "             color=age_counts.index,\n",
        "             labels={'x': 'Age', 'y': 'Count'},\n",
        "             title='Distribution by Age')\n",
        "fig.show()"
      ],
      "metadata": {
        "id": "AJJskSOMt4o6"
      },
      "execution_count": null,
      "outputs": []
    },
    {
      "cell_type": "markdown",
      "source": [
        "La population est principalement jeune\n",
        "\n",
        "La majorité des répondants se situe entre 20-30 ans,\n",
        "Un pic notable autour de 22-25 ans"
      ],
      "metadata": {
        "id": "YJkV1RBtwH_Z"
      }
    },
    {
      "cell_type": "code",
      "source": [
        "\n",
        "#Distribution by Working Professional or Student\n",
        "profession_counts = data['Profession'].value_counts()\n",
        "\n",
        "fig = px.bar(profession_counts,\n",
        "             x=profession_counts.index,\n",
        "             y=profession_counts.values,\n",
        "             color=profession_counts.index,\n",
        "             labels={'x': 'Profession', 'y': 'Count'},\n",
        "             title='Distribution by Working Professional or Student')\n",
        "fig.show()"
      ],
      "metadata": {
        "id": "xQx4dYCgvdhj"
      },
      "execution_count": null,
      "outputs": []
    },
    {
      "cell_type": "markdown",
      "source": [
        "Montre la répartition entre étudiants et professionnels\n",
        "\n",
        "Les étudiants semblent être plus nombreux dans l'échantillon"
      ],
      "metadata": {
        "id": "JPcqX9PPxESg"
      }
    },
    {
      "cell_type": "code",
      "source": [
        "#Distribution by Work Pressure\n",
        "work_pressure_counts = data['Work Pressure'].value_counts()\n",
        "\n",
        "fig = px.bar(work_pressure_counts,\n",
        "             x=work_pressure_counts.index,\n",
        "             y=work_pressure_counts.values,\n",
        "             color=work_pressure_counts.index,\n",
        "             labels={'x': 'Work Pressure', 'y': 'Count'},\n",
        "             title='Distribution by Work Pressure')\n",
        "fig.show()"
      ],
      "metadata": {
        "id": "thZM8grgwJZr"
      },
      "execution_count": null,
      "outputs": []
    },
    {
      "cell_type": "markdown",
      "source": [
        "Représente les niveaux de stress professionnel\n",
        "\n",
        "Une distribution variée avec une tendance vers des niveaux modérés à élevés"
      ],
      "metadata": {
        "id": "ez6n8ps_ygN-"
      }
    },
    {
      "cell_type": "code",
      "source": [
        "#Distribution by Sleep Duration\n",
        "sleep_duration_counts = data['Sleep Duration'].value_counts()\n",
        "\n",
        "fig = px.bar(sleep_duration_counts,\n",
        "             x=sleep_duration_counts.index,\n",
        "             y=sleep_duration_counts.values,\n",
        "             color=sleep_duration_counts.index,\n",
        "             labels={'x': 'Sleep Duration', 'y': 'Count'},\n",
        "             title='Distribution by Sleep Duration')\n",
        "fig.show()"
      ],
      "metadata": {
        "id": "VvF5mCu1NMbg"
      },
      "execution_count": null,
      "outputs": []
    },
    {
      "cell_type": "markdown",
      "source": [
        "Illustre les habitudes de sommeil\n",
        "\n",
        "La majorité semble dormir entre 6-8 heures\n",
        "\n",
        "Présence de cas extrêmes (très peu ou beaucoup de sommeil)"
      ],
      "metadata": {
        "id": "lWfI7oO5yu9e"
      }
    },
    {
      "cell_type": "code",
      "source": [
        "#Distribution by Work/Study Hours\n",
        "work_study_hours_counts = data['Work/Study Hours'].value_counts()\n",
        "\n",
        "fig = px.bar(work_study_hours_counts,\n",
        "             x=work_study_hours_counts.index,\n",
        "             y=work_study_hours_counts.values,\n",
        "             color=work_study_hours_counts.index,\n",
        "             labels={'x': 'Work/Study Hours', 'y': 'Count'},\n",
        "             title='Distribution by Work/Study Hours')\n",
        "fig.show()"
      ],
      "metadata": {
        "id": "gHxpi6h2ON7s"
      },
      "execution_count": null,
      "outputs": []
    },
    {
      "cell_type": "markdown",
      "source": [
        "Montre la charge de travail quotidienne\n",
        "\n",
        "Concentration autour de 6-10 heures par jour"
      ],
      "metadata": {
        "id": "s-vPhh5Hy7SO"
      }
    },
    {
      "cell_type": "code",
      "source": [
        "#Distribution of Financial Stress\n",
        "financial_stress_counts = data['Financial Stress'].value_counts()\n",
        "\n",
        "plt.figure(figsize=(8, 6))\n",
        "sns.heatmap(financial_stress_counts.to_frame(), annot=True, fmt='d', cmap='viridis')\n",
        "plt.title('Distribution of Financial Stress')\n",
        "plt.xlabel('Financial Stress Level')\n",
        "plt.ylabel('Count')\n",
        "plt.show()"
      ],
      "metadata": {
        "id": "bPOpuACzevLL"
      },
      "execution_count": null,
      "outputs": []
    },
    {
      "cell_type": "markdown",
      "source": [
        "Visualise les niveaux de stress financier\n",
        "\n",
        "Gradient de couleurs indiquant l'intensité du stress\n",
        "\n",
        "Zones plus foncées correspondent à des stress plus élevés"
      ],
      "metadata": {
        "id": "mKqsjRBwzEoN"
      }
    },
    {
      "cell_type": "code",
      "source": [
        "#Distribution by Family History of Mental Illness\n",
        "family_history_counts = data['Family History of Mental Illness'].value_counts()\n",
        "\n",
        "fig = px.bar(family_history_counts,\n",
        "             x=family_history_counts.index,\n",
        "             y=family_history_counts.values,\n",
        "             color=family_history_counts.index,\n",
        "             labels={'x': 'Family History of Mental Illness', 'y': 'Count'},\n",
        "             title='Distribution by Family History of Mental Illness')\n",
        "fig.show()"
      ],
      "metadata": {
        "id": "ClKvlqvKSj0O"
      },
      "execution_count": null,
      "outputs": []
    },
    {
      "cell_type": "markdown",
      "source": [
        "Compare les répondants avec et sans historique familial\n",
        "\n",
        "Impact potentiel sur la santé mentale actuelle"
      ],
      "metadata": {
        "id": "7EM53CsgzPdl"
      }
    },
    {
      "cell_type": "code",
      "source": [
        "#Distribution by Depression\n",
        "depression_counts = data['Depression'].value_counts()\n",
        "\n",
        "fig = px.pie(depression_counts,\n",
        "             values=depression_counts.values,\n",
        "             names=depression_counts.index,\n",
        "             title='Distribution by Depression')\n",
        "fig.show()"
      ],
      "metadata": {
        "id": "_2-9hxbmSvW4"
      },
      "execution_count": null,
      "outputs": []
    },
    {
      "cell_type": "markdown",
      "source": [
        "Montre la proportion de personnes touchées par la dépression\n",
        "\n",
        "Distribution entre cas positifs et négatifs"
      ],
      "metadata": {
        "id": "EehIlRhIzcRF"
      }
    },
    {
      "cell_type": "markdown",
      "source": [
        "**Dépression par âge : Montre une prévalence plus élevée chez les jeunes\n",
        "Dépression et pression académique : Corrélation positive\n",
        "Dépression et pression professionnelle : Lien visible\n",
        "Dépression et satisfaction des études : Impact de la satisfaction sur la santé mentale\n",
        "Dépression et pensées suicidaires : Forte corrélation\n",
        "Dépression et stress financier : Lien significatif\n",
        "Dépression et historique familial : Influence des antécédents familiaux**"
      ],
      "metadata": {
        "id": "7wLlTtD5zxrk"
      }
    },
    {
      "cell_type": "markdown",
      "source": [
        "\n",
        "\n",
        "4. 2.   Visualisons bivarier\n",
        "\n"
      ],
      "metadata": {
        "id": "PIfxG9Z1eErn"
      }
    },
    {
      "cell_type": "code",
      "source": [
        "#Distribution of Depression by Age (Top 10 Ages\n",
        "plt.figure(figsize=(12, 6))\n",
        "sns.countplot(x='Age', hue='Depression', data=data, order=data['Age'].value_counts().iloc[:10].index)\n",
        "plt.title('Distribution of Depression by Age (Top 10 Ages)')\n",
        "plt.xlabel('Age')\n",
        "plt.ylabel('Count')\n",
        "plt.xticks(rotation=45)\n",
        "plt.show()"
      ],
      "metadata": {
        "id": "8kw2Ick6VmxK"
      },
      "execution_count": null,
      "outputs": []
    },
    {
      "cell_type": "code",
      "source": [
        "#Distribution of Depression by Academic Pressure\n",
        "plt.figure(figsize=(12, 6))\n",
        "sns.countplot(x='Academic Pressure', hue='Depression', data=data)\n",
        "plt.title('Distribution of Depression by Academic Pressure')\n",
        "plt.xlabel('Academic Pressure')\n",
        "plt.ylabel('Count')\n",
        "plt.xticks(rotation=45)\n",
        "plt.show()"
      ],
      "metadata": {
        "id": "gbbXyXnOt1Bp"
      },
      "execution_count": null,
      "outputs": []
    },
    {
      "cell_type": "code",
      "source": [
        "#Distribution of Depression by Work Pressure\n",
        "plt.figure(figsize=(12, 6))\n",
        "sns.countplot(x='Work Pressure', hue='Depression', data=data)\n",
        "plt.title('Distribution of Depression by Work Pressure')\n",
        "plt.xlabel('Work Pressure')\n",
        "plt.ylabel('Count')\n",
        "plt.xticks(rotation=45)\n",
        "plt.show()"
      ],
      "metadata": {
        "id": "MmTPzauguRpA"
      },
      "execution_count": null,
      "outputs": []
    },
    {
      "cell_type": "code",
      "source": [
        "#Distribution of Depression by Study Satisfaction\n",
        "plt.figure(figsize=(12, 6))\n",
        "sns.countplot(x='Study Satisfaction', hue='Depression', data=data)\n",
        "plt.title('Distribution of Depression by Study Satisfaction')\n",
        "plt.xlabel('Study Satisfaction')\n",
        "plt.ylabel('Count')\n",
        "plt.xticks(rotation=45)\n",
        "plt.show()"
      ],
      "metadata": {
        "id": "XLvGKfF7vBKP"
      },
      "execution_count": null,
      "outputs": []
    },
    {
      "cell_type": "code",
      "source": [
        "#Distribution of Depression by Suicidal Thoughts\n",
        "plt.figure(figsize=(12, 6))\n",
        "sns.countplot(x='Have you ever had suicidal thoughts ?', hue='Depression', data=data)\n",
        "plt.title('Distribution of Depression by Suicidal Thoughts')\n",
        "plt.xlabel('Suicidal Thoughts')\n",
        "plt.ylabel('Count')\n",
        "plt.xticks(rotation=45)\n",
        "plt.show()"
      ],
      "metadata": {
        "id": "y5GX4TZ9V5b2"
      },
      "execution_count": null,
      "outputs": []
    },
    {
      "cell_type": "code",
      "source": [
        "#Distribution of Depression by Work/Study Hours\n",
        "plt.figure(figsize=(12, 6))\n",
        "sns.countplot(x='Work/Study Hours', hue='Depression', data=data)\n",
        "plt.title('Distribution of Depression by Work/Study Hours')\n",
        "plt.xlabel('Work/Study Hours')\n",
        "plt.ylabel('Count')\n",
        "plt.xticks(rotation=45)\n",
        "plt.show()"
      ],
      "metadata": {
        "id": "yy18LX7jXZb3"
      },
      "execution_count": null,
      "outputs": []
    },
    {
      "cell_type": "code",
      "source": [
        "#Distribution of Depression by Financial Stress\n",
        "plt.figure(figsize=(12, 6))\n",
        "sns.countplot(x='Financial Stress', hue='Depression', data=data)\n",
        "plt.title('Distribution of Depression by Financial Stress')\n",
        "plt.xlabel('Financial Stress')\n",
        "plt.ylabel('Count')\n",
        "plt.xticks(rotation=45)\n",
        "plt.show()"
      ],
      "metadata": {
        "id": "N1lWctHbYciW"
      },
      "execution_count": null,
      "outputs": []
    },
    {
      "cell_type": "code",
      "source": [
        "#Distribution of Depression by Family History of Mental Illness\n",
        "plt.figure(figsize=(12, 6))\n",
        "sns.countplot(x='Family History of Mental Illness', hue='Depression', data=data)\n",
        "plt.title('Distribution of Depression by Family History of Mental Illness')\n",
        "plt.xlabel('Family History of Mental Illness')\n",
        "plt.ylabel('Count')\n",
        "plt.xticks(rotation=45)\n",
        "plt.show()"
      ],
      "metadata": {
        "id": "t7QRP3aKYtKl"
      },
      "execution_count": null,
      "outputs": []
    },
    {
      "cell_type": "markdown",
      "source": [
        "D'après l'analyse des différents représentations graphiques, plusieurs facteurs majeurs contribuent à la dépression :\n",
        "\n",
        "1. Facteurs Professionnels/Académiques :\n",
        "Forte pression académique\n",
        "Stress professionnel élevé\n",
        "Longues heures de travail/étude (plus de 8 heures par jour)\n",
        "Faible satisfaction dans les études\n",
        "2. Facteurs Physiologiques :\n",
        "Troubles du sommeil (durée de sommeil inadéquate)\n",
        "Antécédents familiaux de maladies mentales (facteur génétique)\n",
        "3. Facteurs Sociaux-Économiques :\n",
        "Stress financier important\n",
        "Le groupe d'âge le plus touché est celui des jeunes adultes (20-30 ans)\n",
        "4. Indicateurs Graves :\n",
        "Forte corrélation entre dépression et pensées suicidaires\n",
        "Les personnes ayant des antécédents familiaux de maladies mentales sont plus susceptibles de développer une dépression\n",
        "5. Facteurs de Risque Principaux :\n",
        "\n",
        "Stress Financier élevé\n",
        "Pression académique/professionnelle excessive\n",
        "Mauvaise qualité de sommeil\n",
        "Antécédents familiaux de maladies mentales\n",
        "Jeune âge (particulièrement vulnérable)\n",
        "Cette analyse suggère que la dépression est multifactorielle, résultant d'une combinaison de pressions sociales, économiques, académiques et professionnelles, particulièrement chez les jeunes adultes. La prévention devrait donc cibler ces différents aspects pour être efficace.\n",
        "\n",
        "**proposition de solution**\n",
        "\n",
        "\n",
        "\n",
        "\n",
        "\n",
        "1. Solutions pour la Pression Académique/Professionnelle :\n",
        "Mise en place de programmes de gestion du temps\n",
        "Création de périodes de pause obligatoires\n",
        "Flexibilité dans les horaires de travail/études\n",
        "Formation sur la gestion du stress\n",
        "Limite raisonnable des heures de travail/étude quotidiennes\n",
        "Service de soutien pédagogique/professionnel\n",
        "\n",
        "2. Solutions pour le Stress Financier :\n",
        "Programmes d'éducation financière\n",
        "Bourses d'études plus accessibles\n",
        "Prêts à taux préférentiels pour étudiants\n",
        "Conseils en gestion budgétaire\n",
        "Programmes d'aide financière d'urgence\n",
        "Opportunités de travail à temps partiel adaptées\n",
        "3. Solutions pour la Santé Physique et Mentale :\n",
        "Programmes de promotion du sommeil sain\n",
        "Accès gratuit aux services de santé mentale\n",
        "Séances de méditation/mindfulness\n",
        "Activités physiques régulières\n",
        "Groupes de soutien\n",
        "Suivi psychologique préventif\n",
        "4. Solutions Institutionnelles :\n",
        "Dépistage précoce de la dépression\n",
        "Formation du personnel encadrant\n",
        "Politique de bien-être au travail/études\n",
        "Création d'espaces de détente\n",
        "Services de consultation psychologique gratuits\n",
        "Ligne d'assistance 24/7\n",
        "5. Solutions Sociales :\n",
        "Groupes de parole\n",
        "Réseaux de soutien par les pairs\n",
        "Activités communautaires\n",
        "Mentorat\n",
        "Programmes d'intégration sociale\n",
        "Événements de networking positif\n",
        "6. Prévention pour les Personnes à Risque :\n",
        "Suivi renforcé des personnes ayant des antécédents familiaux\n",
        "Programme de détection précoce des signes\n",
        "Accompagnement personnalisé\n",
        "Thérapie préventive\n",
        "Support familial guidé\n",
        "7. Solutions Technologiques :\n",
        "Applications de suivi du bien-être\n",
        "Plateformes de téléconsultation\n",
        "Outils de gestion du stress en ligne\n",
        "Ressources numériques d'auto-aide\n",
        "Communautés en ligne de soutien\n",
        "8. Mesures de Sensibilisation :\n",
        "Campagnes d'information\n",
        "Ateliers de sensibilisation\n",
        "Formations sur la santé mentale\n",
        "Déstigmatisation de la dépression\n",
        "Partage d'expériences positives\n",
        "\n",
        "**Pour être efficace, la mise en œuvre de ces solutions devrait :\n",
        "\n",
        "**Être coordonnée entre différentes institutions\n",
        "*8Impliquer tous les acteurs concernés\n",
        "**Être accessible facilement\n",
        "**Être suivie et évaluée régulièrement\n",
        "**S'adapter aux besoins individuels\n",
        "**Être financièrement abordable\n",
        "*8La clé du succès réside dans une approche holistique qui combine plusieurs **de ces solutions selon les besoins spécifiques de chaque personne."
      ],
      "metadata": {
        "id": "_tqs733vbiki"
      }
    },
    {
      "cell_type": "code",
      "source": [
        "Data = data.copy()"
      ],
      "metadata": {
        "id": "C8yR8-O3_ydO"
      },
      "execution_count": null,
      "outputs": []
    },
    {
      "cell_type": "code",
      "source": [
        "Data.head()"
      ],
      "metadata": {
        "id": "0kfUcQbzBEks"
      },
      "execution_count": null,
      "outputs": []
    },
    {
      "cell_type": "code",
      "source": [
        "data['Depression'] = data['Depression'].map({'Yes': 1, 'No': 0})\n",
        "data['Have you ever had suicidal thoughts ?'] = data['Have you ever had suicidal thoughts ?'].map({'Yes': 1, 'No': 0})\n",
        "\n",
        "\n",
        "correlation_matrix = data[['Depression', 'Have you ever had suicidal thoughts ?']].corr()\n",
        "correlation_matrix"
      ],
      "metadata": {
        "id": "4rPfLP13_2tO"
      },
      "execution_count": null,
      "outputs": []
    }
  ]
}