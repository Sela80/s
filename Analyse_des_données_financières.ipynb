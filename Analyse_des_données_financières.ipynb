{
  "nbformat": 4,
  "nbformat_minor": 0,
  "metadata": {
    "colab": {
      "private_outputs": true,
      "provenance": [],
      "authorship_tag": "ABX9TyPYKNoo+niy+YVOFbWeKgVD",
      "include_colab_link": true
    },
    "kernelspec": {
      "name": "python3",
      "display_name": "Python 3"
    },
    "language_info": {
      "name": "python"
    }
  },
  "cells": [
    {
      "cell_type": "markdown",
      "metadata": {
        "id": "view-in-github",
        "colab_type": "text"
      },
      "source": [
        "<a href=\"https://colab.research.google.com/github/Sela80/s/blob/main/Analyse_des_donn%C3%A9es_financi%C3%A8res.ipynb\" target=\"_parent\"><img src=\"https://colab.research.google.com/assets/colab-badge.svg\" alt=\"Open In Colab\"/></a>"
      ]
    },
    {
      "cell_type": "markdown",
      "source": [
        "# importation des Librairies nécessaires"
      ],
      "metadata": {
        "id": "YJu3CthVtHO-"
      }
    },
    {
      "cell_type": "code",
      "source": [
        "import pandas as pd\n",
        "import numpy as np\n",
        "import matplotlib.pyplot as plt\n",
        "import seaborn as sns\n",
        "import warnings\n",
        "warnings.filterwarnings('ignore')\n",
        "import plotly.express as px"
      ],
      "metadata": {
        "id": "qAqodpfLtO-j"
      },
      "execution_count": null,
      "outputs": []
    },
    {
      "cell_type": "code",
      "source": [
        "file_path='/content/Finance_data.csv'"
      ],
      "metadata": {
        "id": "qs6rXdZmvIaF"
      },
      "execution_count": null,
      "outputs": []
    },
    {
      "cell_type": "code",
      "source": [
        "data=pd.read_csv(file_path)\n",
        "data.head()"
      ],
      "metadata": {
        "id": "ZEBRfy8JvVcO"
      },
      "execution_count": null,
      "outputs": []
    },
    {
      "cell_type": "markdown",
      "source": [
        "# **Analyse exploratoire**"
      ],
      "metadata": {
        "id": "TezypQDu3bVo"
      }
    },
    {
      "cell_type": "markdown",
      "source": [
        "# Information sur le dataset"
      ],
      "metadata": {
        "id": "3l4QViV71R0e"
      }
    },
    {
      "cell_type": "code",
      "source": [
        "data.info()"
      ],
      "metadata": {
        "id": "lJ2PBLEz1e9U"
      },
      "execution_count": null,
      "outputs": []
    },
    {
      "cell_type": "markdown",
      "source": [
        "# verification des valeurs manquantes"
      ],
      "metadata": {
        "id": "lype8VrG1jN2"
      }
    },
    {
      "cell_type": "code",
      "source": [
        "data.isnull().sum()"
      ],
      "metadata": {
        "id": "uVCvwQHR2eWs"
      },
      "execution_count": null,
      "outputs": []
    },
    {
      "cell_type": "markdown",
      "source": [
        "# Affichons les valeurs numériques"
      ],
      "metadata": {
        "id": "wsKJNnHi2jTu"
      }
    },
    {
      "cell_type": "code",
      "source": [
        "data.select_dtypes('int64').columns"
      ],
      "metadata": {
        "id": "CgxghmIY2r_a"
      },
      "execution_count": null,
      "outputs": []
    },
    {
      "cell_type": "markdown",
      "source": [
        "# Affichons maintenant les valeurs categorielles"
      ],
      "metadata": {
        "id": "5ZNyfTGu25mt"
      }
    },
    {
      "cell_type": "code",
      "source": [
        "data.select_dtypes('object').columns"
      ],
      "metadata": {
        "id": "oHQBQbVP3Dz4"
      },
      "execution_count": null,
      "outputs": []
    },
    {
      "cell_type": "markdown",
      "source": [
        "# Verification des doublans"
      ],
      "metadata": {
        "id": "sFoiwJZA3wYf"
      }
    },
    {
      "cell_type": "code",
      "source": [
        "data.duplicated().sum()"
      ],
      "metadata": {
        "id": "07UPKNik4CLG"
      },
      "execution_count": null,
      "outputs": []
    },
    {
      "cell_type": "markdown",
      "source": [
        "# Résumer statistique"
      ],
      "metadata": {
        "id": "5jxkmYUZ4Gu-"
      }
    },
    {
      "cell_type": "code",
      "source": [
        "data.describe()"
      ],
      "metadata": {
        "id": "b6Ai1fPw4N-D"
      },
      "execution_count": null,
      "outputs": []
    },
    {
      "cell_type": "markdown",
      "source": [
        "# **Visualisation des variables**"
      ],
      "metadata": {
        "id": "g1Wzswjl4_8X"
      }
    },
    {
      "cell_type": "code",
      "source": [
        "count_gender=data['gender'].value_counts()\n",
        "fig=px.pie(count_gender,values=count_gender.values,names=count_gender.index,title='Repartition par sex')\n",
        "fig.show()"
      ],
      "metadata": {
        "id": "1iet5zcd4WTg"
      },
      "execution_count": null,
      "outputs": []
    },
    {
      "cell_type": "markdown",
      "source": [
        "# Jetons un coup d'œil parmi ces femmes et hommes ceux ou celles qui sont sur la voie d'investissement"
      ],
      "metadata": {
        "id": "vTMKLhdO_T-A"
      }
    },
    {
      "cell_type": "code",
      "source": [
        "gender_inves=data.groupby(['gender','Investment_Avenues']).value_counts()\n",
        "plt.figure(figsize=(10,5))\n",
        "sns.countplot(x='gender',hue='Investment_Avenues',data=data)\n",
        "plt.show()\n"
      ],
      "metadata": {
        "id": "kbJxT40b_vDq"
      },
      "execution_count": null,
      "outputs": []
    },
    {
      "cell_type": "markdown",
      "source": [
        "# Le graphique ci-dessus montre que:\n",
        "# une bonne portion des femmes sont sur la voie d'investissement et d'autres n'en sont pas tandis que tous les garçons le sont"
      ],
      "metadata": {
        "id": "GN6siAxOCmOJ"
      }
    },
    {
      "cell_type": "markdown",
      "source": [
        "#Voyons maintenant l'âge des femmes et hommes engagés dans l'investissement"
      ],
      "metadata": {
        "id": "N8VIyMA6FbOx"
      }
    },
    {
      "cell_type": "code",
      "source": [
        "age_inves=data.groupby(['age','Investment_Avenues']).value_counts()\n",
        "plt.figure(figsize=(10,5))\n",
        "sns.countplot(x='age',hue='Investment_Avenues',data=data)\n",
        "plt.show()"
      ],
      "metadata": {
        "id": "4iL2dN-DFAJM"
      },
      "execution_count": null,
      "outputs": []
    },
    {
      "cell_type": "markdown",
      "source": [],
      "metadata": {
        "id": "lnA6hEbKKpOR"
      }
    },
    {
      "cell_type": "code",
      "source": [
        "gender=data[data['gender']=='Female']\n",
        "gender.head()"
      ],
      "metadata": {
        "id": "XhqU_oixKwf6"
      },
      "execution_count": null,
      "outputs": []
    },
    {
      "cell_type": "code",
      "source": [
        "gender=data[data['gender']=='Female']\n",
        "gender_inves=gender.groupby(['gender','Investment_Avenues']).value_counts()\n",
        "plt.figure(figsize=(10,5))\n",
        "sns.countplot(x='age',hue='Investment_Avenues',data=gender)\n",
        "plt.show()"
      ],
      "metadata": {
        "id": "z8QuyECRKp0p"
      },
      "execution_count": null,
      "outputs": []
    },
    {
      "cell_type": "code",
      "source": [
        "gender=data[data['gender']=='Female']\n",
        "gender_inves=gender.groupby(['gender','Investment_Avenues']).value_counts()\n",
        "plt.figure(figsize=(10,5))\n",
        "sns.countplot(x='gender',hue='Investment_Avenues',data=gender)\n",
        "plt.show()"
      ],
      "metadata": {
        "id": "GmwvxiJsLFAq"
      },
      "execution_count": null,
      "outputs": []
    }
  ]
}