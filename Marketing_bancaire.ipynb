{
  "nbformat": 4,
  "nbformat_minor": 0,
  "metadata": {
    "colab": {
      "private_outputs": true,
      "provenance": [],
      "authorship_tag": "ABX9TyP9hc/fvqNaFYRmBHaD3FaG",
      "include_colab_link": true
    },
    "kernelspec": {
      "name": "python3",
      "display_name": "Python 3"
    },
    "language_info": {
      "name": "python"
    }
  },
  "cells": [
    {
      "cell_type": "markdown",
      "metadata": {
        "id": "view-in-github",
        "colab_type": "text"
      },
      "source": [
        "<a href=\"https://colab.research.google.com/github/Sela80/s/blob/main/Marketing_bancaire.ipynb\" target=\"_parent\"><img src=\"https://colab.research.google.com/assets/colab-badge.svg\" alt=\"Open In Colab\"/></a>"
      ]
    },
    {
      "cell_type": "markdown",
      "source": [
        "# **Marketing bancaire**\n",
        "* Résumé :\n",
        "#Les données sont liées aux campagnes de marketing direct (appels téléphoniques) d'une institution bancaire portugaise. L'objectif de la classification est de prédire si le client souscrira un dépôt à terme (variable y).\n",
        "\n",
        "#**Informations sur l'ensemble de données :**\n",
        "#les données sont liées aux campagnes de marketing direct d'une institution bancaire portugaise. Les campagnes marketing étaient basées sur des appels téléphoniques. Souvent, plusieurs contacts avec le même client étaient nécessaires pour savoir si le produit (dépôt bancaire à terme) serait (« oui ») ou non (« non ») souscrit.\n",
        "\n",
        "#**Informations sur les attributs :**\n",
        "* Données clients bancaires :\n",
        "#Âge (numérique)\n",
        "#Emploi : type d'emploi (catégorique : 'admin.', 'ouvrier', 'entrepreneur', 'femme de ménage', 'gestion', 'retraité', 'indépendant', 'services', 'étudiant', ' technicien', 'chômeur', 'inconnu')\n",
        "#Matrimonial : état civil (catégorique : 'divorcé', 'marié', 'célibataire', 'inconnu' ; note : 'divorcé' signifie divorcé ou veuf)\n",
        "#Éducation (catégorique : « de base.4 ans », « de base.6 ans », « de base.9 ans », « lycée », « illettré », « cours.professionnel », « diplôme.universitaire », « inconnu »)\n",
        "#Défaut : le crédit est-il en défaut ? (catégorique : \"non\", \"oui\", \"inconnu\")\n",
        "#Logement : existe-t-il un prêt logement ? (catégorique : \"non\", \"oui\", \"inconnu\")\n",
        "#Prêt : avez-vous un prêt personnel ? (catégorique : \"non\", \"oui\", \"inconnu\")\n",
        "#En lien avec le dernier contact de la campagne en cours :\n",
        "#Contact : type de communication du contact (catégorique :\n",
        "#« cellulaire », « téléphone »)\n",
        "#Mois : mois du dernier contact de l'année (catégorique : 'jan', 'feb', 'mar',\n",
        "#…, 'nov', 'dec')\n",
        "#Day_of_week : dernier jour de contact de la semaine (catégorique :\n",
        "#'lundi', 'mardi', 'mercredi', 'jeu', 'ven')\n",
        "#Durée : durée du dernier contact, en secondes (numérique). Remarque importante\n",
        "#: cet attribut affecte fortement la cible de sortie (par exemple, si\n",
        "#durée=0 alors y='no'). Cependant, la durée n'est pas connue avant qu'un appel\n",
        "#soit effectué. De plus, après la fin de l'appel, y est évidemment connu.\n",
        "#Ainsi, cette donnée ne doit être incluse qu’à des fins de référence et\n",
        "#doit être écartée si l’intention est d’avoir un\n",
        "#modèle prédictif réaliste.\n",
        "#**Autres attributs :**\n",
        "#Campagne : nombre de contacts effectués lors de cette campagne et pour\n",
        "#ce client (numérique, inclut le dernier contact)\n",
        "#Pdays : nombre de jours écoulés après que le client a été\n",
        "#contacté pour la dernière fois lors d'une campagne précédente (numérique ; 999 signifie que le client n'a pas été\n",
        "#contacté auparavant)\n",
        "#Précédent : nombre de contacts effectués avant cette campagne et pour\n",
        "#ce client (numérique)\n",
        "#Poutcome : résultat de la campagne marketing précédente (catégorique :\n",
        "#\"échec\", \"inexistant\", \"succès\")\n",
        "#Attributs du contexte social et économique\n",
        "#Emp.var.rate : taux de variation de l'emploi - indicateur trimestriel\n",
        "#(numérique)\n",
        "#Cons.price.idx : indice des prix à la consommation - indicateur mensuel (numérique)\n",
        "#Cons.conf.idx : indice de confiance des consommateurs - indicateur mensuel\n",
        "#(numérique)\n",
        "#Euribor3m : taux euribor 3 mois - indicateur journalier (numérique)\n",
        "#Nr.employed: nombre d'employés - indicateur trimestriel (numérique)\n",
        "#Variable de sortie (cible souhaitée) :\n",
        "#y - le client a-t-il souscrit un dépôt à terme ? (binaire : 'oui', 'non')\n",
        "#**Étapes d'analyse :**\n",
        "#Analyse des informations sur les attributs.\n",
        "#Apprentissage automatique (régression logistique, KNN, SVM, arbre de décision,\n",
        "#forêt aléatoire, Naive Bayes)\n",
        "#Apprentissage profond (ANN)"
      ],
      "metadata": {
        "id": "BSdF_lRWSGfL"
      }
    },
    {
      "cell_type": "code",
      "source": [
        "import pandas as pd\n",
        "import numpy as np\n",
        "import matplotlib.pyplot as plt\n",
        "import seaborn as sns\n",
        "import plotly.express as px\n",
        "import plotly.graph_objects as go\n",
        "import warnings\n",
        "warnings.filterwarnings('ignore')\n",
        "from sklearn.model_selection import train_test_split\n",
        "from sklearn.preprocessing import LabelEncoder\n"
      ],
      "metadata": {
        "id": "LGcQ4j3WPdhZ"
      },
      "execution_count": null,
      "outputs": []
    },
    {
      "cell_type": "code",
      "source": [
        "data=pd.read_csv('/content/bank.csv')"
      ],
      "metadata": {
        "id": "I-FTBEAOPdLp"
      },
      "execution_count": null,
      "outputs": []
    },
    {
      "cell_type": "markdown",
      "source": [
        "# **Analyse exploratoire **"
      ],
      "metadata": {
        "id": "UfvXSfxgeI3I"
      }
    },
    {
      "cell_type": "code",
      "source": [
        "#affichage du dataset\n",
        "data.head()"
      ],
      "metadata": {
        "id": "Qxef_JjTPyXx"
      },
      "execution_count": null,
      "outputs": []
    },
    {
      "cell_type": "code",
      "source": [
        "#Affichons les colonnes de notre ensemble de données\n",
        "\n",
        "data.columns"
      ],
      "metadata": {
        "id": "SAZcdAyEhgkA"
      },
      "execution_count": null,
      "outputs": []
    },
    {
      "cell_type": "code",
      "source": [
        "#Afficher les informations sur le data\n",
        "data.info()"
      ],
      "metadata": {
        "id": "U-qHZwNShtRA"
      },
      "execution_count": null,
      "outputs": []
    },
    {
      "cell_type": "code",
      "source": [
        "#affichage des \"object\"\n",
        "cat_col=data.select_dtypes('object').columns\n",
        "cat_col"
      ],
      "metadata": {
        "id": "fGx80eNlkaO1"
      },
      "execution_count": null,
      "outputs": []
    },
    {
      "cell_type": "code",
      "source": [
        "#Affichage des \"int64\"\n",
        "data.select_dtypes('int64').columns"
      ],
      "metadata": {
        "id": "IYF-yq-Ukl9l"
      },
      "execution_count": null,
      "outputs": []
    },
    {
      "cell_type": "code",
      "source": [
        "#Vérifions les valeurs manquantes\n",
        "data.isnull().sum()"
      ],
      "metadata": {
        "id": "NbS15RpUkz2J"
      },
      "execution_count": null,
      "outputs": []
    },
    {
      "cell_type": "code",
      "source": [
        "#vérifions des doublans\n",
        "data.duplicated().sum()"
      ],
      "metadata": {
        "id": "WZrYhlFSlF_y"
      },
      "execution_count": null,
      "outputs": []
    },
    {
      "cell_type": "code",
      "source": [
        "#Resumer statistiques\n",
        "\n",
        "data.describe()"
      ],
      "metadata": {
        "id": "T8q5rIuEm1mT"
      },
      "execution_count": null,
      "outputs": []
    },
    {
      "cell_type": "markdown",
      "source": [
        "# **Visualisons Visualisation Des Données**"
      ],
      "metadata": {
        "id": "g9uhbwxRnN08"
      }
    },
    {
      "cell_type": "code",
      "source": [
        "#Distribution par job\n",
        "count_job=data['job'].value_counts()\n",
        "fig=px.bar(x=count_job.index,y=count_job.values,title='Nombre de clients par profession',color=count_job.values)\n",
        "fig.show()\n"
      ],
      "metadata": {
        "id": "WqDGrLM2nh7j"
      },
      "execution_count": null,
      "outputs": []
    },
    {
      "cell_type": "markdown",
      "source": [
        "# Le nombre des travailleurs varit en fonction du post occupé"
      ],
      "metadata": {
        "id": "ctOVNY-A5Bob"
      }
    },
    {
      "cell_type": "markdown",
      "source": [
        "# Vérifions parmi les travailleurs ceux qui ont effectués un dépôt\n"
      ],
      "metadata": {
        "id": "HzvIcejC7V3M"
      }
    },
    {
      "cell_type": "code",
      "source": [
        "job_deposit=data.groupby('job')['deposit'].value_counts()\n",
        "job_deposit\n"
      ],
      "metadata": {
        "id": "1fqbhoiX53Hj"
      },
      "execution_count": null,
      "outputs": []
    },
    {
      "cell_type": "code",
      "source": [
        "job_deposit=data.groupby('job')['deposit'].value_counts().unstack()\n",
        "job_deposit\n",
        "plt.figure(figsize=(13,5) )\n",
        "sns.countplot(x='job',hue='deposit',data=data)\n",
        "plt.show()"
      ],
      "metadata": {
        "id": "M-kb715I7zoU"
      },
      "execution_count": null,
      "outputs": []
    },
    {
      "cell_type": "markdown",
      "source": [
        "#Le graphique ci-dessus montre que :\n",
        "#la souscription # Non du depot à terme varit en fonction du post occupé"
      ],
      "metadata": {
        "id": "z0ueasgjHhhR"
      }
    },
    {
      "cell_type": "code",
      "source": [
        "#Distribution par marital\n",
        "count_marital=data['marital'].value_counts()\n",
        "fig=px.bar(x=count_marital.index,y=count_marital.values,title='Nombre de clients par marital',color=count_marital.values)\n",
        "fig.show()"
      ],
      "metadata": {
        "id": "YNyl3hkto6Sz"
      },
      "execution_count": null,
      "outputs": []
    },
    {
      "cell_type": "markdown",
      "source": [
        "# Verifions maintenant en fonction de la situation matrimonial ceux qui arrivent à souscrire à dépôt à terme et ceux qui arrivent pas"
      ],
      "metadata": {
        "id": "_nWkA_mkLeB7"
      }
    },
    {
      "cell_type": "code",
      "source": [
        "marital_deposit=data.groupby('marital')['deposit'].value_counts()\n",
        "plt.figure(figsize=(13,5) )\n",
        "sns.countplot(x='marital',hue='deposit',data=data)\n",
        "plt.show()"
      ],
      "metadata": {
        "id": "uThkUA-MJgJZ"
      },
      "execution_count": null,
      "outputs": []
    },
    {
      "cell_type": "code",
      "source": [
        "#Distribution par education\n",
        "count_education=data['education'].value_counts()\n",
        "fig=px.bar(x=count_education.index,y=count_education.values,title='Nombre de clients par education',color=count_education.values)\n",
        "fig.show()"
      ],
      "metadata": {
        "id": "7EDzUZGmoq47"
      },
      "execution_count": null,
      "outputs": []
    },
    {
      "cell_type": "markdown",
      "source": [
        "# Maintenant verifions les clients qui arrivent à faire le dépôt à terme en fonction de leur niveau d'éducation"
      ],
      "metadata": {
        "id": "2OFBYHVANeIU"
      }
    },
    {
      "cell_type": "code",
      "source": [
        "education_deposit=data.groupby('education')['deposit'].value_counts()\n",
        "plt.figure(figsize=(13,5) )\n",
        "sns.countplot(x='education',hue='deposit',data=data)\n",
        "plt.show()"
      ],
      "metadata": {
        "id": "CZTgf3bjN_-V"
      },
      "execution_count": null,
      "outputs": []
    },
    {
      "cell_type": "markdown",
      "source": [
        "# le graphique ci-dessus montre que:\n",
        "# une bonne portion l'éducation second et primaire ne s'intéresse pas trop au dépôt par contre ceux du tertiare un bon nombre le fait.\n",
        "# et voilà que les clients du inconnu sont à égalité"
      ],
      "metadata": {
        "id": "qK873y7lOUxU"
      }
    },
    {
      "cell_type": "code",
      "source": [
        "#Distribution par campaign\n",
        "count_campaign=data['campaign'].value_counts()\n",
        "fig=px.bar(x=count_campaign.index,y=count_campaign.values,title='Nombre de clients par campaign',color=count_campaign.values)\n",
        "fig.show()"
      ],
      "metadata": {
        "id": "rxr8Wk1VqENU"
      },
      "execution_count": null,
      "outputs": []
    },
    {
      "cell_type": "code",
      "source": [
        "#Distribution par loan\n",
        "count_loan=data['loan'].value_counts()\n",
        "fig=px.bar(x=count_loan.index,y=count_loan.values,title='Nombre de clients par loan',color=count_loan.values)\n",
        "fig.show()\n"
      ],
      "metadata": {
        "id": "ujq9O1Skqtd0"
      },
      "execution_count": null,
      "outputs": []
    },
    {
      "cell_type": "markdown",
      "source": [
        "# Verifions maintenant en fonction du job ceux qui ont pris credit"
      ],
      "metadata": {
        "id": "x0fiYy9NU44J"
      }
    },
    {
      "cell_type": "code",
      "source": [
        "Loan_job=data.groupby('loan')['job'].value_counts()\n",
        "plt.figure(figsize=(13,5) )\n",
        "sns.countplot(x='job',hue='loan',data=data)\n",
        "plt.show()"
      ],
      "metadata": {
        "id": "weFp4QdITQUW"
      },
      "execution_count": null,
      "outputs": []
    },
    {
      "cell_type": "markdown",
      "source": [
        "# le graphique ci-dessus montre que:\n",
        "# De l'administrateur jusqu'aux entrepreneurs, une mini portion est crédité par contre les étudiants par du tout"
      ],
      "metadata": {
        "id": "XKtDBx9JVUla"
      }
    },
    {
      "cell_type": "code",
      "source": [
        "encoded_df = pd.get_dummies(data, columns=['job', 'marital', 'education', 'default', 'housing', 'loan', 'contact','month', 'poutcome', 'deposit'],)"
      ],
      "metadata": {
        "id": "T7ZOl_ubbIlC"
      },
      "execution_count": null,
      "outputs": []
    },
    {
      "cell_type": "code",
      "source": [
        "cate_col={\n",
        "                'job':1,\n",
        "                'marital': 2,\n",
        "                'education':3,\n",
        "                'default':4,\n",
        "                'housing':5,\n",
        "                'loan':6,\n",
        "                'contact':7,\n",
        "                'month':8,\n",
        "                'poutcome':9,\n",
        "                'deposit':10\n",
        "}"
      ],
      "metadata": {
        "id": "KjjAlmRKcVAq"
      },
      "execution_count": null,
      "outputs": []
    },
    {
      "cell_type": "code",
      "source": [
        "# Appliquez le mapping à la colonne 'Travail' à l'aide de la méthode map()\n",
        "data['cate_col'] = data['cate_col'].map(cate_col)\n",
        "print(data)"
      ],
      "metadata": {
        "id": "NQr4lptuhAvO"
      },
      "execution_count": null,
      "outputs": []
    },
    {
      "cell_type": "code",
      "source": [
        "# Créer une instance de LabelEncoder\n",
        "label_encoder = LabelEncoder()\n",
        "data['cate_col'] = label_encoder.fit_transform(data[\"cate_col\"])\n"
      ],
      "metadata": {
        "id": "OijuTmyWjGRd"
      },
      "execution_count": null,
      "outputs": []
    }
  ]
}